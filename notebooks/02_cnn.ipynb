{
 "cells": [
  {
   "cell_type": "markdown",
   "id": "5743b603",
   "metadata": {},
   "source": [
    "## Imports"
   ]
  },
  {
   "cell_type": "code",
   "execution_count": 13,
   "id": "c0ab4b1e",
   "metadata": {
    "ExecuteTime": {
     "end_time": "2023-12-06T11:59:28.642330Z",
     "start_time": "2023-12-06T11:59:25.928898Z"
    }
   },
   "outputs": [],
   "source": [
    "import pandas as pd\n",
    "import torch\n",
    "import torch.nn as nn\n",
    "from torch.optim import Adam\n",
    "import matplotlib\n",
    "import matplotlib.pyplot as plt\n",
    "import numpy as np\n",
    "import glob\n",
    "import os\n",
    "import seaborn as sns\n",
    "import sys\n",
    "import time\n",
    "from sklearn.metrics import accuracy_score, precision_score, recall_score\n",
    "from sklearn.model_selection import train_test_split, GridSearchCV\n",
    "from sklearn.model_selection import StratifiedKFold, KFold\n",
    "from sklearn.preprocessing import LabelEncoder, OneHotEncoder\n",
    "from torch.utils.data import Dataset, DataLoader\n",
    "import torch.nn.functional as F\n",
    "from torch.nn import Module, Conv1d, MaxPool1d, Softmax, Linear, Flatten, Dropout\n",
    "import multiprocessing\n",
    "from tqdm import tqdm\n",
    "import itertools\n",
    "sys.path.append('../src')\n",
    "from utils import plot_spectrum, filename_from_metadata, load_dataset"
   ]
  },
  {
   "cell_type": "code",
   "execution_count": 14,
   "id": "189e6bb6",
   "metadata": {},
   "outputs": [
    {
     "data": {
      "text/plain": [
       "<torch._C.Generator at 0x7fa3d1b0a4f0>"
      ]
     },
     "execution_count": 14,
     "metadata": {},
     "output_type": "execute_result"
    }
   ],
   "source": [
    "torch.manual_seed(12)"
   ]
  },
  {
   "cell_type": "code",
   "execution_count": 15,
   "id": "96acab9e",
   "metadata": {},
   "outputs": [],
   "source": [
    "device = torch.device(\"cuda\" if torch.cuda.is_available() else \"cpu\")"
   ]
  },
  {
   "cell_type": "code",
   "execution_count": 16,
   "id": "259156bc",
   "metadata": {},
   "outputs": [
    {
     "data": {
      "text/plain": [
       "False"
      ]
     },
     "execution_count": 16,
     "metadata": {},
     "output_type": "execute_result"
    }
   ],
   "source": [
    "torch.cuda.is_available()"
   ]
  },
  {
   "cell_type": "markdown",
   "id": "bee06e84",
   "metadata": {},
   "source": [
    "# Data preparation\n",
    "* Variance thresholding\n",
    "* Normalization so that the mean is 0 and variance is 1"
   ]
  },
  {
   "cell_type": "markdown",
   "id": "76e7e0c5",
   "metadata": {},
   "source": [
    "### Load data and split them into features X and target y"
   ]
  },
  {
   "cell_type": "code",
   "execution_count": 6,
   "id": "71fc02c7",
   "metadata": {
    "ExecuteTime": {
     "end_time": "2023-11-14T15:45:36.556842Z",
     "start_time": "2023-11-14T15:45:09.316864Z"
    }
   },
   "outputs": [
    {
     "name": "stdout",
     "output_type": "stream",
     "text": [
      "[INFO] Loading dataset spectrum_exported.\n",
      "[INFO] Dataset spectrum_exported loaded loaded in 6.7 seconds.\n",
      "[INFO] Input data shapes: X[(23430, 801)], y[(23430,)]\n"
     ]
    }
   ],
   "source": [
    "data = load_dataset(data_dir='../data/id/', dataset_name='spectrum_exported', verbose=True)\n",
    "X, y, metadata = data['data_points'], data['data_labels'], data['metadata']"
   ]
  },
  {
   "cell_type": "markdown",
   "id": "ec60f94f",
   "metadata": {},
   "source": [
    "### (Optional) Filter data"
   ]
  },
  {
   "cell_type": "raw",
   "id": "85e6acb6",
   "metadata": {},
   "source": [
    "unknown_compounds_indices = ['Neidentifikovane' not in compound for compound in y]\n",
    "X = X[unknown_compounds_indices]\n",
    "y = y[unknown_compounds_indices]\n",
    "print(f\"X[{X.shape}], y[{y.shape}].\")"
   ]
  },
  {
   "cell_type": "markdown",
   "id": "4fc7c22a",
   "metadata": {},
   "source": [
    "### Split into training and testing data + convert test data to PyTorch tensors"
   ]
  },
  {
   "cell_type": "code",
   "execution_count": 17,
   "id": "f3cbb659",
   "metadata": {
    "ExecuteTime": {
     "end_time": "2023-11-14T16:04:14.402248Z",
     "start_time": "2023-11-14T16:04:13.961359Z"
    }
   },
   "outputs": [
    {
     "name": "stdout",
     "output_type": "stream",
     "text": [
      "Data splitted in 0.3 seconds.\n"
     ]
    }
   ],
   "source": [
    "start = time.time()\n",
    "X_train, X_test, y_train, y_test = train_test_split(X, y, test_size=0.2, random_state=1)\n",
    "print(f\"Data splitted in {(time.time() - start):.1f} seconds.\")"
   ]
  },
  {
   "cell_type": "markdown",
   "id": "9bf61ddc",
   "metadata": {},
   "source": [
    "### Put Data through DataLoader, so we can use batches"
   ]
  },
  {
   "cell_type": "code",
   "execution_count": 18,
   "id": "2b00143e",
   "metadata": {},
   "outputs": [],
   "source": [
    "class Data(Dataset):\n",
    "    def __init__(self, x_train, y_train):\n",
    "        self.x = torch.from_numpy(x_train)\n",
    "        self.y = torch.from_numpy(y_train)\n",
    "        self.len = self.x.shape[0]\n",
    "    def __getitem__(self,index):      \n",
    "        return self.x[index], self.y[index]\n",
    "    def __len__(self):\n",
    "        return self.len"
   ]
  },
  {
   "cell_type": "markdown",
   "id": "8826fb13",
   "metadata": {},
   "source": [
    "# Modeling"
   ]
  },
  {
   "cell_type": "code",
   "execution_count": 19,
   "id": "3207f6f8",
   "metadata": {},
   "outputs": [
    {
     "name": "stdout",
     "output_type": "stream",
     "text": [
      "Input shape: (1, 801)\n",
      "Conv1d: (32, 801)\n",
      "MaxPool1d: (32, 400)\n",
      "Conv1d: (64, 400)\n",
      "Dense: (64, 60)\n",
      "Flatten: (3840,)\n",
      "Dense: (800,)\n",
      "Dense: (70,)\n"
     ]
    }
   ],
   "source": [
    "def conv1d_output_size(input_size, out_channels, padding, kernel_size, stride, dilation=None):\n",
    "    \"\"\"According to https://pytorch.org/docs/stable/generated/torch.nn.Conv1d.html\n",
    "    \"\"\"\n",
    "    if dilation is None:\n",
    "        dilation = 1\n",
    "\n",
    "    output_size = (\n",
    "        out_channels,\n",
    "        np.floor((input_size[1] + 2 * padding - dilation *\n",
    "                  (kernel_size - 1) - 1) / stride + 1).astype(int)\n",
    "    )\n",
    "    return output_size\n",
    "\n",
    "def maxpool1d_output_size(input_size, padding, kernel_size, stride, dilation=None):\n",
    "    \"\"\"According to https://pytorch.org/docs/stable/generated/torch.nn.MaxPool1d.html\n",
    "    \"\"\"\n",
    "    if dilation is None:\n",
    "        dilation = 1\n",
    "        \n",
    "    output_size = (\n",
    "        input_size[0],\n",
    "        np.floor(((input_size[1] + 2 * padding - dilation * (kernel_size - 1) - 1) \n",
    "                 / stride) + 1).astype(int)\n",
    "    )\n",
    "    return output_size\n",
    "\n",
    "sample_shape = (1, 801)\n",
    "c_o = 3\n",
    "c_o2 = 5\n",
    "k = 5\n",
    "s = 1\n",
    "p = 1\n",
    "p2 = 2\n",
    "num_classes = len(np.unique(y))\n",
    "computed_output_size = conv1d_output_size(\n",
    "    input_size=sample_shape, out_channels=32, padding=2, kernel_size=5, stride=1)\n",
    "compute_output_size2 = maxpool1d_output_size(\n",
    "    input_size=computed_output_size, padding=1, kernel_size=k, stride=2)\n",
    "computed_output_size3 = conv1d_output_size(\n",
    "    input_size=compute_output_size2, out_channels=64, padding=2, kernel_size=k, stride=1)\n",
    "dense_out1 = 60\n",
    "computed_output_size4 = (computed_output_size3[0], dense_out1)\n",
    "computed_output_size5 = (computed_output_size4[0] * computed_output_size4[1], )\n",
    "dense_out2 = 800\n",
    "computed_output_size6 = (dense_out2, )\n",
    "computed_output_size7 = (num_classes, )\n",
    "\n",
    "print(f\"Input shape: {sample_shape}\")\n",
    "print(f\"Conv1d: {computed_output_size}\")\n",
    "print(f\"MaxPool1d: {compute_output_size2}\")\n",
    "print(f\"Conv1d: {computed_output_size3}\")\n",
    "print(f\"Dense: {computed_output_size4}\")\n",
    "print(f\"Flatten: {computed_output_size5}\")\n",
    "print(f\"Dense: {computed_output_size6}\")\n",
    "print(f\"Dense: {computed_output_size7}\")"
   ]
  },
  {
   "cell_type": "code",
   "execution_count": 20,
   "id": "303dcf8e",
   "metadata": {},
   "outputs": [],
   "source": [
    "class SimpleCNN(nn.Module):\n",
    "    def __init__(self, num_channels, num_classes, dropout_rate):\n",
    "        super(SimpleCNN, self).__init__()\n",
    "        \n",
    "        self.conv1 = Conv1d(in_channels=num_channels, out_channels=32,\n",
    "                            kernel_size=5, padding=2, stride=1)\n",
    "        self.maxpool = MaxPool1d(kernel_size=5, stride=2, padding=1)\n",
    "        self.conv2 = Conv1d(in_channels=32, out_channels=64,\n",
    "                            kernel_size=5, padding=2, stride=1)\n",
    "        self.drop1 = Dropout(dropout_rate)\n",
    "        self.dense1 = Linear(in_features=400, out_features=100)\n",
    "        self.flatten = Flatten()\n",
    "        self.drop2 = Dropout(dropout_rate)\n",
    "        self.dense2 = Linear(in_features=6400, out_features=500)\n",
    "        self.output = Linear(in_features=500, out_features=num_classes)\n",
    "    def forward(self, x):\n",
    "        x = self.maxpool(self.conv1(x))\n",
    "        x = self.conv2(x)\n",
    "        x = self.drop1(x)\n",
    "        x = self.dense1(x)\n",
    "        x = self.flatten(x)\n",
    "        x = self.drop2(x)\n",
    "        x = self.dense2(x)\n",
    "        x = self.output(x)\n",
    "        return x"
   ]
  },
  {
   "cell_type": "markdown",
   "id": "e3fac246",
   "metadata": {},
   "source": [
    "# Training"
   ]
  },
  {
   "cell_type": "code",
   "execution_count": 21,
   "id": "8e6ba1f5",
   "metadata": {},
   "outputs": [],
   "source": [
    "def train(train_loader, validation_loader, model, optimizer, loss_fn, num_train_samples, num_val_samples, batch_size, n_epochs, device, validation_mode, verbose=False):\n",
    "    num_train_steps, num_val_steps = num_train_samples // batch_size, num_val_samples // batch_size\n",
    "    assert validation_mode in ['train_val', 'cross_validation', 'tuning'], \"Wrong argument - validation_mode!\"\n",
    "    H = {\n",
    "        \"train_loss\": [],\n",
    "        \"train_acc\": [],\n",
    "        \"val_loss\": [],\n",
    "        \"val_acc\": []\n",
    "    }\n",
    "    if verbose:\n",
    "        print(\"[INFO] Training the network...\")\n",
    "        startTime = time.time()\n",
    "        \n",
    "    if validation_mode in ['cross_validation', 'tuning']:\n",
    "        iterator1 = tqdm(range(n_epochs), unit=\"epoch\")\n",
    "    else:\n",
    "        iterator1 = range(n_epochs)\n",
    "    for epoch in iterator1:\n",
    "        train_loss = 0\n",
    "        train_correct = 0\n",
    "        if validation_mode == 'train_val':\n",
    "            iterator2 = tqdm(train_loader, unit=\"batch\")\n",
    "        else: \n",
    "            iterator2 = train_loader\n",
    "            if validation_mode in ['cross_validation', 'tuning']:\n",
    "                iterator1.set_description(f\"Epoch {epoch}\")\n",
    "        for batch_n, (xi, yi) in enumerate(iterator2):\n",
    "            if validation_mode == 'train_val':\n",
    "                iterator2.set_description(f\"Batch {batch_n}\")\n",
    "            xi, yi = xi.to(device), yi.to(device)\n",
    "\n",
    "            #clear gradient \n",
    "            optimizer.zero_grad()\n",
    "\n",
    "            #make a prediction \n",
    "            z = model(xi)\n",
    "\n",
    "            # calculate loss\n",
    "            loss = loss_fn(z, yi)\n",
    "\n",
    "            # calculate gradients of parameters \n",
    "            loss.backward()\n",
    "\n",
    "            # update parameters \n",
    "            optimizer.step()\n",
    "\n",
    "            train_loss += loss\n",
    "            correct = ((z.argmax(1) == yi).type(torch.float).sum().item())\n",
    "            train_correct += correct\n",
    "            accuracy = correct / batch_size\n",
    "\n",
    "            if validation_mode == 'train_val':\n",
    "                iterator2.set_postfix(loss=loss.item(), accuracy=100. * accuracy)\n",
    "        \n",
    "        # calculate the average training loss\n",
    "        epoch_train_loss = (train_loss / num_train_steps).item()\n",
    "        \n",
    "        # calculate the training accuracy\n",
    "        epoch_train_correct = train_correct / num_train_samples\n",
    "        \n",
    "        # update our training history\n",
    "        H[\"train_loss\"].append(epoch_train_loss)\n",
    "        H[\"train_acc\"].append(epoch_train_correct)\n",
    "        \n",
    "        if verbose and validation_mode == 'train_val':\n",
    "            # print the model training and validation information\n",
    "            print(\"[INFO] EPOCH: {}/{}\".format(epoch + 1, n_epochs))\n",
    "            print(f\"Train loss: {epoch_train_loss:.4f}, Train accuracy: {epoch_train_correct:.4f}\")\n",
    "        elif validation_mode in ['cross_validation', 'tuning']:\n",
    "            iterator1.set_postfix(loss=epoch_train_loss, accuracy=100. * epoch_train_correct)\n",
    "        \n",
    "        if validation_mode == 'train_val':\n",
    "            val_correct = 0\n",
    "            val_loss = 0\n",
    "#             model.eval()\n",
    "            with torch.no_grad():\n",
    "                for xi, yi in validation_loader:\n",
    "                    xi, yi = xi.to(device), yi.to(device)\n",
    "                    z = model(xi)\n",
    "                    val_loss += loss_fn(z, yi)\n",
    "                    val_correct += ((z.argmax(1) == yi).type(torch.float).sum().item())\n",
    "#             model.train() # -> when doing this it degrades the accuracy by a lot! -> use less for dropout?\n",
    "            epoch_val_loss = (val_loss / num_val_steps).item()\n",
    "            epoch_val_correct = val_correct / num_val_samples\n",
    "            H[\"val_loss\"].append(epoch_val_loss)\n",
    "            H[\"val_acc\"].append(epoch_val_correct)\n",
    "            if verbose and validation_mode == 'train_val':\n",
    "                print(f\"Val loss: {epoch_val_loss:.6f}, Val accuracy: {epoch_val_correct:.4f}\")\n",
    "        \n",
    "    if verbose:\n",
    "        print(f\"[INFO] Total time taken to train the model: {(time.time() - startTime):.2f}s or {(time.time() - startTime)/60:.2f}min.\")  \n",
    "    \n",
    "    if validation_mode in ['cross_validation', 'tuning']:\n",
    "        val_correct = 0\n",
    "        val_loss = 0\n",
    "        predictions = []\n",
    "        labels = []\n",
    "        model.eval()\n",
    "        with torch.no_grad():\n",
    "            for xi, yi in validation_loader:\n",
    "                xi, yi = xi.to(device), yi.to(device)\n",
    "                z = model(xi)\n",
    "                y_pred = z.argmax(1).cpu().numpy()\n",
    "                predictions.append(y_pred)\n",
    "                labels.append(yi.cpu().numpy())\n",
    "                val_loss += loss_fn(z, yi)\n",
    "                val_correct += ((z.argmax(1) == yi).type(torch.float).sum().item())\n",
    "        val_loss = (val_loss / num_val_steps).item()\n",
    "        val_correct = val_correct / num_val_samples\n",
    "        predictions = np.concatenate(predictions, axis=0)\n",
    "        labels = np.concatenate(labels, axis=0)\n",
    "        if validation_mode == 'tuning':\n",
    "            H['test_precision'] = precision_score(y_true=labels, y_pred=predictions, average='macro', zero_division=1)\n",
    "            H['test_recall'] = recall_score(y_true=labels, y_pred=predictions, average='macro', zero_division=1)\n",
    "        else:\n",
    "            H['test_precision'] = precision_score(y_true=labels, y_pred=predictions, average='macro', zero_division='warn')\n",
    "            H['test_recall'] = recall_score(y_true=labels, y_pred=predictions, average='macro', zero_division='warn')\n",
    "        H[\"test_loss\"] = val_loss\n",
    "        H[\"test_acc\"] = val_correct\n",
    "        return model, H, predictions, labels\n",
    "        \n",
    "    return model, H"
   ]
  },
  {
   "cell_type": "code",
   "execution_count": 171,
   "id": "a034d815",
   "metadata": {},
   "outputs": [
    {
     "data": {
      "image/png": "[encoded data removed]",
      "text/plain": [
       "<Figure size 432x288 with 1 Axes>"
      ]
     },
     "metadata": {},
     "output_type": "display_data"
    }
   ],
   "source": [
    "%matplotlib inline\n",
    "# plot the training loss and accuracy\n",
    "plt.style.use(\"ggplot\")\n",
    "plt.figure()\n",
    "plt.plot(H[\"train_loss\"], label=\"train_loss\")\n",
    "plt.plot(H[\"val_loss\"], label=\"val_loss\")\n",
    "plt.plot(H[\"train_acc\"], label=\"train_acc\")\n",
    "plt.plot(H[\"val_acc\"], label=\"val_acc\")\n",
    "plt.title(\"Training Loss and Accuracy on Dataset\")\n",
    "plt.xlabel(\"Epoch #\")\n",
    "plt.ylabel(\"Loss/Accuracy\")\n",
    "plt.legend(loc=\"lower left\")\n",
    "plt.ylim([0.8, 1])\n",
    "# plt.savefig(args[\"plot\"])\n",
    "plt.show()"
   ]
  },
  {
   "cell_type": "markdown",
   "id": "bac850e1",
   "metadata": {},
   "source": [
    "### Save the model"
   ]
  },
  {
   "cell_type": "code",
   "execution_count": 132,
   "id": "b7233e0c",
   "metadata": {},
   "outputs": [],
   "source": [
    "timestr = time.strftime(\"%Y%m%d-%H%M\")\n",
    "optional_flag = 'more_parameters_LR=10e-5'\n",
    "PATH = f'../models/cnn_{timestr}_{optional_flag}.md'\n",
    "torch.save(model.state_dict(), PATH)"
   ]
  },
  {
   "cell_type": "markdown",
   "id": "a0b9eb0c",
   "metadata": {},
   "source": [
    "### Load trained model"
   ]
  },
  {
   "cell_type": "raw",
   "id": "1030d8f8",
   "metadata": {},
   "source": [
    "model = SimpleCNN(num_channels, num_classes).to(device)\n",
    "PATH = f'../models/best_model.md'\n",
    "model.load_state_dict(torch.load(PATH))"
   ]
  },
  {
   "cell_type": "markdown",
   "id": "76697908",
   "metadata": {},
   "source": [
    "# Evaluation of the model using default hyperparameters\n",
    "* metrics - accuracy, precision, recall, f1-score"
   ]
  },
  {
   "cell_type": "markdown",
   "id": "abc8480a",
   "metadata": {},
   "source": [
    "# Fine-tuning hyperparameters"
   ]
  },
  {
   "cell_type": "markdown",
   "id": "3fe21221",
   "metadata": {},
   "source": [
    "#### batch size + number of epochs"
   ]
  },
  {
   "cell_type": "code",
   "execution_count": 116,
   "id": "d16665d8",
   "metadata": {
    "scrolled": true
   },
   "outputs": [
    {
     "name": "stderr",
     "output_type": "stream",
     "text": [
      "Epoch 59: 100%|██████████| 60/60 [07:36<00:00,  7.61s/epoch, accuracy=90.8, loss=25.1] \n"
     ]
    },
    {
     "name": "stdout",
     "output_type": "stream",
     "text": [
      "params        [1, 60]\n",
      "accuracy        0.879\n",
      "precision    0.889577\n",
      "recall       0.878518\n",
      "Name: 0, dtype: object\n"
     ]
    },
    {
     "name": "stderr",
     "output_type": "stream",
     "text": [
      "Epoch 99: 100%|██████████| 100/100 [12:47<00:00,  7.67s/epoch, accuracy=93.4, loss=13.4]\n"
     ]
    },
    {
     "name": "stdout",
     "output_type": "stream",
     "text": [
      "params       [1, 100]\n",
      "accuracy        0.851\n",
      "precision    0.895264\n",
      "recall        0.85197\n",
      "Name: 1, dtype: object\n"
     ]
    },
    {
     "name": "stderr",
     "output_type": "stream",
     "text": [
      "Epoch 249: 100%|██████████| 250/250 [32:18<00:00,  7.75s/epoch, accuracy=98.6, loss=1.37] \n"
     ]
    },
    {
     "name": "stdout",
     "output_type": "stream",
     "text": [
      "params       [1, 250]\n",
      "accuracy        0.905\n",
      "precision    0.916429\n",
      "recall        0.90852\n",
      "Name: 2, dtype: object\n"
     ]
    },
    {
     "name": "stderr",
     "output_type": "stream",
     "text": [
      "Epoch 59: 100%|██████████| 60/60 [01:57<00:00,  1.96s/epoch, accuracy=81.3, loss=109]  \n"
     ]
    },
    {
     "name": "stdout",
     "output_type": "stream",
     "text": [
      "params        [4, 60]\n",
      "accuracy        0.812\n",
      "precision    0.862595\n",
      "recall       0.830054\n",
      "Name: 3, dtype: object\n"
     ]
    },
    {
     "name": "stderr",
     "output_type": "stream",
     "text": [
      "Epoch 99: 100%|██████████| 100/100 [03:15<00:00,  1.96s/epoch, accuracy=88.2, loss=35.3]\n"
     ]
    },
    {
     "name": "stdout",
     "output_type": "stream",
     "text": [
      "params       [4, 100]\n",
      "accuracy        0.851\n",
      "precision    0.881489\n",
      "recall       0.859606\n",
      "Name: 4, dtype: object\n"
     ]
    },
    {
     "name": "stderr",
     "output_type": "stream",
     "text": [
      "Epoch 249: 100%|██████████| 250/250 [08:10<00:00,  1.96s/epoch, accuracy=95.7, loss=7.49]\n"
     ]
    },
    {
     "name": "stdout",
     "output_type": "stream",
     "text": [
      "params       [4, 250]\n",
      "accuracy        0.894\n",
      "precision    0.910432\n",
      "recall       0.896908\n",
      "Name: 5, dtype: object\n"
     ]
    },
    {
     "name": "stderr",
     "output_type": "stream",
     "text": [
      "Epoch 59: 100%|██████████| 60/60 [00:59<00:00,  1.01epoch/s, accuracy=77.4, loss=126]  \n"
     ]
    },
    {
     "name": "stdout",
     "output_type": "stream",
     "text": [
      "params        [8, 60]\n",
      "accuracy         0.76\n",
      "precision    0.799978\n",
      "recall       0.764317\n",
      "Name: 6, dtype: object\n"
     ]
    },
    {
     "name": "stderr",
     "output_type": "stream",
     "text": [
      "Epoch 99: 100%|██████████| 100/100 [01:39<00:00,  1.00epoch/s, accuracy=84.8, loss=68.3]\n"
     ]
    },
    {
     "name": "stdout",
     "output_type": "stream",
     "text": [
      "params       [8, 100]\n",
      "accuracy        0.846\n",
      "precision    0.868713\n",
      "recall       0.853693\n",
      "Name: 7, dtype: object\n"
     ]
    },
    {
     "name": "stderr",
     "output_type": "stream",
     "text": [
      "Epoch 249: 100%|██████████| 250/250 [04:11<00:00,  1.00s/epoch, accuracy=93.6, loss=10.7]\n"
     ]
    },
    {
     "name": "stdout",
     "output_type": "stream",
     "text": [
      "params       [8, 250]\n",
      "accuracy        0.882\n",
      "precision    0.901271\n",
      "recall       0.886221\n",
      "Name: 8, dtype: object\n"
     ]
    },
    {
     "name": "stderr",
     "output_type": "stream",
     "text": [
      "Epoch 59: 100%|██████████| 60/60 [00:31<00:00,  1.91epoch/s, accuracy=73.5, loss=142]3]\n"
     ]
    },
    {
     "name": "stdout",
     "output_type": "stream",
     "text": [
      "params       [16, 60]\n",
      "accuracy        0.784\n",
      "precision    0.826072\n",
      "recall       0.790328\n",
      "Name: 9, dtype: object\n"
     ]
    },
    {
     "name": "stderr",
     "output_type": "stream",
     "text": [
      "Epoch 99: 100%|██████████| 100/100 [00:51<00:00,  1.92epoch/s, accuracy=81.8, loss=58.3]\n"
     ]
    },
    {
     "name": "stdout",
     "output_type": "stream",
     "text": [
      "params       [16, 100]\n",
      "accuracy          0.82\n",
      "precision     0.855941\n",
      "recall        0.824673\n",
      "Name: 10, dtype: object\n"
     ]
    },
    {
     "name": "stderr",
     "output_type": "stream",
     "text": [
      "Epoch 249: 100%|██████████| 250/250 [02:09<00:00,  1.93epoch/s, accuracy=90.3, loss=22.7]\n"
     ]
    },
    {
     "name": "stdout",
     "output_type": "stream",
     "text": [
      "params       [16, 250]\n",
      "accuracy         0.859\n",
      "precision     0.873935\n",
      "recall         0.86132\n",
      "Name: 11, dtype: object\n"
     ]
    },
    {
     "name": "stderr",
     "output_type": "stream",
     "text": [
      "Epoch 59: 100%|██████████| 60/60 [00:25<00:00,  2.40epoch/s, accuracy=71.4, loss=203]  \n"
     ]
    },
    {
     "name": "stdout",
     "output_type": "stream",
     "text": [
      "params       [20, 60]\n",
      "accuracy        0.714\n",
      "precision    0.804828\n",
      "recall       0.736112\n",
      "Name: 12, dtype: object\n"
     ]
    },
    {
     "name": "stderr",
     "output_type": "stream",
     "text": [
      "Epoch 99: 100%|██████████| 100/100 [00:41<00:00,  2.39epoch/s, accuracy=79.4, loss=123] \n"
     ]
    },
    {
     "name": "stdout",
     "output_type": "stream",
     "text": [
      "params       [20, 100]\n",
      "accuracy         0.815\n",
      "precision      0.83852\n",
      "recall        0.821287\n",
      "Name: 13, dtype: object\n"
     ]
    },
    {
     "name": "stderr",
     "output_type": "stream",
     "text": [
      "Epoch 249: 100%|██████████| 250/250 [01:44<00:00,  2.39epoch/s, accuracy=90.2, loss=20.6]\n"
     ]
    },
    {
     "name": "stdout",
     "output_type": "stream",
     "text": [
      "params       [20, 250]\n",
      "accuracy         0.872\n",
      "precision      0.88638\n",
      "recall        0.875653\n",
      "Name: 14, dtype: object\n"
     ]
    },
    {
     "name": "stderr",
     "output_type": "stream",
     "text": [
      "Epoch 59: 100%|██████████| 60/60 [00:16<00:00,  3.67epoch/s, accuracy=68.1, loss=190]    \n"
     ]
    },
    {
     "name": "stdout",
     "output_type": "stream",
     "text": [
      "params       [32, 60]\n",
      "accuracy        0.735\n",
      "precision    0.826057\n",
      "recall       0.742482\n",
      "Name: 15, dtype: object\n"
     ]
    },
    {
     "name": "stderr",
     "output_type": "stream",
     "text": [
      "Epoch 99: 100%|██████████| 100/100 [00:27<00:00,  3.66epoch/s, accuracy=76.6, loss=84.9]\n"
     ]
    },
    {
     "name": "stdout",
     "output_type": "stream",
     "text": [
      "params       [32, 100]\n",
      "accuracy         0.805\n",
      "precision     0.838356\n",
      "recall        0.803283\n",
      "Name: 16, dtype: object\n"
     ]
    },
    {
     "name": "stderr",
     "output_type": "stream",
     "text": [
      "Epoch 25:  10%|█         | 25/250 [00:07<01:01,  3.64epoch/s, accuracy=56, loss=440]    IOPub message rate exceeded.\n",
      "The notebook server will temporarily stop sending output\n",
      "to the client in order to avoid crashing it.\n",
      "To change this limit, set the config variable\n",
      "`--NotebookApp.iopub_msg_rate_limit`.\n",
      "\n",
      "Current values:\n",
      "NotebookApp.iopub_msg_rate_limit=1000.0 (msgs/sec)\n",
      "NotebookApp.rate_limit_window=3.0 (secs)\n",
      "\n"
     ]
    }
   ],
   "source": [
    "startTime = time.time()\n",
    "\n",
    "param_space = {\n",
    "    \"batch_size\": [1, 4, 8, 16, 20, 32],\n",
    "    \"num_epochs\": [60, 100, 250]\n",
    "}\n",
    "\n",
    "keys, values = zip(*param_space.items())\n",
    "param_combinations = [v for v in itertools.product(*values)]\n",
    "param_combinations\n",
    "\n",
    "X_tune, y_tune = X[:5000], y[:5000]\n",
    "X_train, X_test, y_train, y_test = train_test_split(X_tune, y_tune, test_size=0.2, random_state=1)\n",
    "\n",
    "train_dataset = Data(X_train, y_train)\n",
    "test_dataset = Data(X_test, y_test)\n",
    "loss_fn = nn.CrossEntropyLoss()\n",
    "LEARNING_RATE = 1e-5\n",
    "DROPOUT_RATE = 0.1\n",
    "best_score = 0\n",
    "num_channels = 1\n",
    "num_classes = 70\n",
    "\n",
    "grid_search_df = pd.DataFrame(columns=['params', 'accuracy', 'precision', 'recall'])\n",
    "for (batch_size, n_epochs) in param_combinations:\n",
    "    init_model = SimpleCNN(num_channels, num_classes, DROPOUT_RATE).to(device)\n",
    "    optimizer = Adam(init_model.parameters(), lr=LEARNING_RATE)\n",
    "    train_loader = DataLoader(\n",
    "                      dataset=train_dataset, \n",
    "                      batch_size=batch_size)\n",
    "    test_loader = DataLoader(\n",
    "                      dataset=test_dataset,\n",
    "                      batch_size=batch_size)\n",
    "    trained_model, H, _, _ = train(train_loader, \n",
    "                             test_loader, \n",
    "                             init_model, \n",
    "                             optimizer, \n",
    "                             loss_fn, \n",
    "                             len(train_loader.dataset), \n",
    "                             len(test_loader.dataset),\n",
    "                             batch_size,\n",
    "                             n_epochs,\n",
    "                             device, \n",
    "                             validation_mode='tuning',\n",
    "                             verbose=False)\n",
    "    score = H[\"test_acc\"]\n",
    "    result = {'params': [batch_size, n_epochs], \n",
    "              'accuracy': H['test_acc'], \n",
    "              'precision': H['test_precision'], \n",
    "              'recall': H['test_recall']}  \n",
    "    result = pd.DataFrame([result])\n",
    "    grid_search_df = pd.concat([grid_search_df, result], ignore_index=True)\n",
    "    print(grid_search_df.iloc[-1])\n",
    "    if score > best_score:\n",
    "        best_score = score\n",
    "        best_parameters = {'batch_size': batch_size, 'num_epochs': n_epochs}\n",
    "        \n",
    "print(f\"[INFO] total time taken to run grid search: {(time.time() - startTime):.2f}s or {(time.time() - startTime)/60:.2f}min.\")          \n",
    "print(f\"Best: {best_score} using {best_parameters}\")\n",
    "grid_search_df.sort_values(['accuracy', 'precision', 'recall'], ascending=False)"
   ]
  },
  {
   "cell_type": "code",
   "execution_count": 117,
   "id": "b543ba25",
   "metadata": {},
   "outputs": [
    {
     "data": {
      "text/html": [
       "<div>\n",
       "<style scoped>\n",
       "    .dataframe tbody tr th:only-of-type {\n",
       "        vertical-align: middle;\n",
       "    }\n",
       "\n",
       "    .dataframe tbody tr th {\n",
       "        vertical-align: top;\n",
       "    }\n",
       "\n",
       "    .dataframe thead th {\n",
       "        text-align: right;\n",
       "    }\n",
       "</style>\n",
       "<table border=\"1\" class=\"dataframe\">\n",
       "  <thead>\n",
       "    <tr style=\"text-align: right;\">\n",
       "      <th></th>\n",
       "      <th>params</th>\n",
       "      <th>accuracy</th>\n",
       "      <th>precision</th>\n",
       "      <th>recall</th>\n",
       "    </tr>\n",
       "  </thead>\n",
       "  <tbody>\n",
       "    <tr>\n",
       "      <th>2</th>\n",
       "      <td>[1, 250]</td>\n",
       "      <td>0.905</td>\n",
       "      <td>0.916429</td>\n",
       "      <td>0.90852</td>\n",
       "    </tr>\n",
       "    <tr>\n",
       "      <th>5</th>\n",
       "      <td>[4, 250]</td>\n",
       "      <td>0.894</td>\n",
       "      <td>0.910432</td>\n",
       "      <td>0.896908</td>\n",
       "    </tr>\n",
       "    <tr>\n",
       "      <th>8</th>\n",
       "      <td>[8, 250]</td>\n",
       "      <td>0.882</td>\n",
       "      <td>0.901271</td>\n",
       "      <td>0.886221</td>\n",
       "    </tr>\n",
       "    <tr>\n",
       "      <th>0</th>\n",
       "      <td>[1, 60]</td>\n",
       "      <td>0.879</td>\n",
       "      <td>0.889577</td>\n",
       "      <td>0.878518</td>\n",
       "    </tr>\n",
       "    <tr>\n",
       "      <th>14</th>\n",
       "      <td>[20, 250]</td>\n",
       "      <td>0.872</td>\n",
       "      <td>0.88638</td>\n",
       "      <td>0.875653</td>\n",
       "    </tr>\n",
       "    <tr>\n",
       "      <th>11</th>\n",
       "      <td>[16, 250]</td>\n",
       "      <td>0.859</td>\n",
       "      <td>0.873935</td>\n",
       "      <td>0.86132</td>\n",
       "    </tr>\n",
       "    <tr>\n",
       "      <th>1</th>\n",
       "      <td>[1, 100]</td>\n",
       "      <td>0.851</td>\n",
       "      <td>0.895264</td>\n",
       "      <td>0.85197</td>\n",
       "    </tr>\n",
       "    <tr>\n",
       "      <th>4</th>\n",
       "      <td>[4, 100]</td>\n",
       "      <td>0.851</td>\n",
       "      <td>0.881489</td>\n",
       "      <td>0.859606</td>\n",
       "    </tr>\n",
       "    <tr>\n",
       "      <th>7</th>\n",
       "      <td>[8, 100]</td>\n",
       "      <td>0.846</td>\n",
       "      <td>0.868713</td>\n",
       "      <td>0.853693</td>\n",
       "    </tr>\n",
       "    <tr>\n",
       "      <th>17</th>\n",
       "      <td>[32, 250]</td>\n",
       "      <td>0.839</td>\n",
       "      <td>0.869217</td>\n",
       "      <td>0.845695</td>\n",
       "    </tr>\n",
       "    <tr>\n",
       "      <th>10</th>\n",
       "      <td>[16, 100]</td>\n",
       "      <td>0.82</td>\n",
       "      <td>0.855941</td>\n",
       "      <td>0.824673</td>\n",
       "    </tr>\n",
       "    <tr>\n",
       "      <th>13</th>\n",
       "      <td>[20, 100]</td>\n",
       "      <td>0.815</td>\n",
       "      <td>0.83852</td>\n",
       "      <td>0.821287</td>\n",
       "    </tr>\n",
       "    <tr>\n",
       "      <th>3</th>\n",
       "      <td>[4, 60]</td>\n",
       "      <td>0.812</td>\n",
       "      <td>0.862595</td>\n",
       "      <td>0.830054</td>\n",
       "    </tr>\n",
       "    <tr>\n",
       "      <th>16</th>\n",
       "      <td>[32, 100]</td>\n",
       "      <td>0.805</td>\n",
       "      <td>0.838356</td>\n",
       "      <td>0.803283</td>\n",
       "    </tr>\n",
       "    <tr>\n",
       "      <th>9</th>\n",
       "      <td>[16, 60]</td>\n",
       "      <td>0.784</td>\n",
       "      <td>0.826072</td>\n",
       "      <td>0.790328</td>\n",
       "    </tr>\n",
       "    <tr>\n",
       "      <th>6</th>\n",
       "      <td>[8, 60]</td>\n",
       "      <td>0.76</td>\n",
       "      <td>0.799978</td>\n",
       "      <td>0.764317</td>\n",
       "    </tr>\n",
       "    <tr>\n",
       "      <th>15</th>\n",
       "      <td>[32, 60]</td>\n",
       "      <td>0.735</td>\n",
       "      <td>0.826057</td>\n",
       "      <td>0.742482</td>\n",
       "    </tr>\n",
       "    <tr>\n",
       "      <th>12</th>\n",
       "      <td>[20, 60]</td>\n",
       "      <td>0.714</td>\n",
       "      <td>0.804828</td>\n",
       "      <td>0.736112</td>\n",
       "    </tr>\n",
       "  </tbody>\n",
       "</table>\n",
       "</div>"
      ],
      "text/plain": [
       "       params accuracy precision    recall\n",
       "2    [1, 250]    0.905  0.916429   0.90852\n",
       "5    [4, 250]    0.894  0.910432  0.896908\n",
       "8    [8, 250]    0.882  0.901271  0.886221\n",
       "0     [1, 60]    0.879  0.889577  0.878518\n",
       "14  [20, 250]    0.872   0.88638  0.875653\n",
       "11  [16, 250]    0.859  0.873935   0.86132\n",
       "1    [1, 100]    0.851  0.895264   0.85197\n",
       "4    [4, 100]    0.851  0.881489  0.859606\n",
       "7    [8, 100]    0.846  0.868713  0.853693\n",
       "17  [32, 250]    0.839  0.869217  0.845695\n",
       "10  [16, 100]     0.82  0.855941  0.824673\n",
       "13  [20, 100]    0.815   0.83852  0.821287\n",
       "3     [4, 60]    0.812  0.862595  0.830054\n",
       "16  [32, 100]    0.805  0.838356  0.803283\n",
       "9    [16, 60]    0.784  0.826072  0.790328\n",
       "6     [8, 60]     0.76  0.799978  0.764317\n",
       "15   [32, 60]    0.735  0.826057  0.742482\n",
       "12   [20, 60]    0.714  0.804828  0.736112"
      ]
     },
     "execution_count": 117,
     "metadata": {},
     "output_type": "execute_result"
    }
   ],
   "source": [
    "grid_search_df.sort_values(['accuracy', 'precision', 'recall'], ascending=False)"
   ]
  },
  {
   "cell_type": "markdown",
   "id": "72e04bc9",
   "metadata": {},
   "source": [
    "#### Optimizer learning rate"
   ]
  },
  {
   "cell_type": "code",
   "execution_count": 118,
   "id": "afe440b7",
   "metadata": {},
   "outputs": [],
   "source": [
    "BATCH_SIZE, N_EPOCHS = 4, 250"
   ]
  },
  {
   "cell_type": "code",
   "execution_count": 120,
   "id": "6e665620",
   "metadata": {
    "scrolled": true
   },
   "outputs": [
    {
     "name": "stderr",
     "output_type": "stream",
     "text": [
      "Epoch 249: 100%|██████████| 250/250 [08:11<00:00,  1.97s/epoch, accuracy=75.8, loss=78.3] \n"
     ]
    },
    {
     "name": "stdout",
     "output_type": "stream",
     "text": [
      "params        [1e-06]\n",
      "accuracy         0.83\n",
      "precision    0.850078\n",
      "recall       0.840684\n",
      "Name: 0, dtype: object\n"
     ]
    },
    {
     "name": "stderr",
     "output_type": "stream",
     "text": [
      "Epoch 249: 100%|██████████| 250/250 [08:09<00:00,  1.96s/epoch, accuracy=95.5, loss=3.7] \n"
     ]
    },
    {
     "name": "stdout",
     "output_type": "stream",
     "text": [
      "params        [1e-05]\n",
      "accuracy        0.883\n",
      "precision    0.901804\n",
      "recall       0.883326\n",
      "Name: 1, dtype: object\n"
     ]
    },
    {
     "name": "stderr",
     "output_type": "stream",
     "text": [
      "Epoch 249: 100%|██████████| 250/250 [08:05<00:00,  1.94s/epoch, accuracy=98.2, loss=8.83]\n"
     ]
    },
    {
     "name": "stdout",
     "output_type": "stream",
     "text": [
      "params       [0.0001]\n",
      "accuracy        0.872\n",
      "precision    0.893126\n",
      "recall       0.879898\n",
      "Name: 2, dtype: object\n"
     ]
    },
    {
     "name": "stderr",
     "output_type": "stream",
     "text": [
      "Epoch 249: 100%|██████████| 250/250 [08:08<00:00,  1.95s/epoch, accuracy=97.9, loss=6.76e+3]"
     ]
    },
    {
     "name": "stdout",
     "output_type": "stream",
     "text": [
      "params        [0.001]\n",
      "accuracy        0.788\n",
      "precision    0.810622\n",
      "recall       0.790528\n",
      "Name: 3, dtype: object\n",
      "[INFO] total time taken to run grid search: 1956.15s or 32.60min.\n",
      "Best: 0.883 using {'learning rate': 1e-05}\n",
      "     params accuracy precision    recall\n",
      "0   [1e-06]     0.83  0.850078  0.840684\n",
      "1   [1e-05]    0.883  0.901804  0.883326\n",
      "2  [0.0001]    0.872  0.893126  0.879898\n",
      "3   [0.001]    0.788  0.810622  0.790528\n"
     ]
    },
    {
     "name": "stderr",
     "output_type": "stream",
     "text": [
      "\n"
     ]
    }
   ],
   "source": [
    "startTime = time.time()\n",
    "param_space = {\n",
    "    \"lr\": [1e-6, 1e-5, 1e-4, 1e-3]\n",
    "}\n",
    "\n",
    "keys, values = zip(*param_space.items())\n",
    "param_combinations = [v for v in itertools.product(*values)]\n",
    "\n",
    "X_tune, y_tune = X[:5000], y[:5000]\n",
    "X_train, X_test, y_train, y_test = train_test_split(X_tune, y_tune, test_size=0.2, random_state=1)\n",
    "\n",
    "train_dataset = Data(X_train, y_train)\n",
    "test_dataset = Data(X_test, y_test)\n",
    "loss_fn = nn.CrossEntropyLoss()\n",
    "DROPOUT_RATE = 0.1\n",
    "best_score = 0\n",
    "num_channels = 1\n",
    "num_classes = 70\n",
    "\n",
    "grid_search_df = pd.DataFrame(columns=['params', 'accuracy', 'precision', 'recall'])\n",
    "for (learning_rate,) in param_combinations:\n",
    "    init_model = SimpleCNN(num_channels, num_classes, DROPOUT_RATE).to(device)\n",
    "    optimizer = Adam(init_model.parameters(), lr=learning_rate)\n",
    "    train_loader = DataLoader(\n",
    "                      dataset=train_dataset, \n",
    "                      batch_size=BATCH_SIZE)\n",
    "    test_loader = DataLoader(\n",
    "                      dataset=test_dataset,\n",
    "                      batch_size=BATCH_SIZE)\n",
    "    trained_model, H, _, _ = train(train_loader, \n",
    "                             test_loader, \n",
    "                             init_model, \n",
    "                             optimizer, \n",
    "                             loss_fn, \n",
    "                             len(train_loader.dataset), \n",
    "                             len(test_loader.dataset),\n",
    "                             BATCH_SIZE,\n",
    "                             N_EPOCHS,\n",
    "                             device, \n",
    "                             validation_mode='tuning',\n",
    "                             verbose=False)\n",
    "    score = H[\"test_acc\"]\n",
    "    result = {'params': [learning_rate], \n",
    "              'accuracy': H['test_acc'], \n",
    "              'precision': H['test_precision'], \n",
    "              'recall': H['test_recall']}  \n",
    "    result = pd.DataFrame([result])\n",
    "    grid_search_df = pd.concat([grid_search_df, result], ignore_index=True)\n",
    "    print(grid_search_df.iloc[-1])\n",
    "    if score > best_score:\n",
    "        best_score = score\n",
    "        best_parameters = {'learning rate': learning_rate}\n",
    "   \n",
    "print(f\"[INFO] total time taken to run grid search: {(time.time() - startTime):.2f}s or {(time.time() - startTime)/60:.2f}min.\")          \n",
    "print(f\"Best: {best_score} using {best_parameters}\")\n",
    "print(grid_search_df)    "
   ]
  },
  {
   "cell_type": "markdown",
   "id": "0b27ee5e",
   "metadata": {},
   "source": [
    "#### Dropout rate "
   ]
  },
  {
   "cell_type": "code",
   "execution_count": 121,
   "id": "5efcbc93",
   "metadata": {},
   "outputs": [],
   "source": [
    "LEARNING_RATE = 1e-5"
   ]
  },
  {
   "cell_type": "code",
   "execution_count": 122,
   "id": "9edf65eb",
   "metadata": {
    "scrolled": true
   },
   "outputs": [
    {
     "name": "stderr",
     "output_type": "stream",
     "text": [
      "Epoch 249: 100%|██████████| 250/250 [15:34<00:00,  3.74s/epoch, accuracy=99.1, loss=0.565]\n"
     ]
    },
    {
     "name": "stdout",
     "output_type": "stream",
     "text": [
      "params          [0.0]\n",
      "accuracy        0.937\n",
      "precision    0.936735\n",
      "recall       0.938202\n",
      "Name: 0, dtype: object\n"
     ]
    },
    {
     "name": "stderr",
     "output_type": "stream",
     "text": [
      "Epoch 249: 100%|██████████| 250/250 [16:14<00:00,  3.90s/epoch, accuracy=96.8, loss=1.33] \n"
     ]
    },
    {
     "name": "stdout",
     "output_type": "stream",
     "text": [
      "params          [0.1]\n",
      "accuracy       0.9225\n",
      "precision    0.930912\n",
      "recall       0.924732\n",
      "Name: 1, dtype: object\n"
     ]
    },
    {
     "name": "stderr",
     "output_type": "stream",
     "text": [
      "Epoch 249: 100%|██████████| 250/250 [16:12<00:00,  3.89s/epoch, accuracy=95.9, loss=2.1] \n"
     ]
    },
    {
     "name": "stdout",
     "output_type": "stream",
     "text": [
      "params          [0.2]\n",
      "accuracy        0.926\n",
      "precision    0.929557\n",
      "recall       0.925498\n",
      "Name: 2, dtype: object\n"
     ]
    },
    {
     "name": "stderr",
     "output_type": "stream",
     "text": [
      "Epoch 249: 100%|██████████| 250/250 [16:14<00:00,  3.90s/epoch, accuracy=93.2, loss=3.98]\n"
     ]
    },
    {
     "name": "stdout",
     "output_type": "stream",
     "text": [
      "params          [0.3]\n",
      "accuracy        0.928\n",
      "precision    0.936133\n",
      "recall       0.927217\n",
      "Name: 3, dtype: object\n"
     ]
    },
    {
     "name": "stderr",
     "output_type": "stream",
     "text": [
      "Epoch 249: 100%|██████████| 250/250 [16:12<00:00,  3.89s/epoch, accuracy=90.9, loss=5.26]\n"
     ]
    },
    {
     "name": "stdout",
     "output_type": "stream",
     "text": [
      "params          [0.4]\n",
      "accuracy       0.9235\n",
      "precision    0.925283\n",
      "recall       0.923018\n",
      "Name: 4, dtype: object\n"
     ]
    },
    {
     "name": "stderr",
     "output_type": "stream",
     "text": [
      "Epoch 249: 100%|██████████| 250/250 [16:14<00:00,  3.90s/epoch, accuracy=89.4, loss=7.83] \n"
     ]
    },
    {
     "name": "stdout",
     "output_type": "stream",
     "text": [
      "params          [0.5]\n",
      "accuracy       0.9275\n",
      "precision    0.932881\n",
      "recall       0.927435\n",
      "Name: 5, dtype: object\n",
      "[INFO] total time taken to run grid search: 5805.87s or 96.76min.\n",
      "Best: 0.937 using {'dropout rate': 0.0}\n",
      "  params accuracy precision    recall\n",
      "0  [0.0]    0.937  0.936735  0.938202\n",
      "1  [0.1]   0.9225  0.930912  0.924732\n",
      "2  [0.2]    0.926  0.929557  0.925498\n",
      "3  [0.3]    0.928  0.936133  0.927217\n",
      "4  [0.4]   0.9235  0.925283  0.923018\n",
      "5  [0.5]   0.9275  0.932881  0.927435\n"
     ]
    }
   ],
   "source": [
    "startTime = time.time()\n",
    "param_space = {\n",
    "    \"dropout_rate\": [0.0, 0.1, 0.2, 0.3, 0.4, 0.5]\n",
    "}\n",
    "\n",
    "keys, values = zip(*param_space.items())\n",
    "param_combinations = [v for v in itertools.product(*values)]\n",
    "\n",
    "X_tune, y_tune = X[:10000], y[:10000]\n",
    "X_train, X_test, y_train, y_test = train_test_split(X_tune, y_tune, test_size=0.2, random_state=1)\n",
    "\n",
    "train_dataset = Data(X_train, y_train)\n",
    "test_dataset = Data(X_test, y_test)\n",
    "loss_fn = nn.CrossEntropyLoss()\n",
    "best_score = 0\n",
    "num_channels = 1\n",
    "num_classes = 70\n",
    "\n",
    "grid_search_df = pd.DataFrame(columns=['params', 'accuracy', 'precision', 'recall'])\n",
    "for (dropout_rate,) in param_combinations:\n",
    "    init_model = SimpleCNN(num_channels, num_classes, dropout_rate).to(device)\n",
    "    optimizer = Adam(init_model.parameters(), lr=LEARNING_RATE)\n",
    "    train_loader = DataLoader(\n",
    "                      dataset=train_dataset, \n",
    "                      batch_size=BATCH_SIZE)\n",
    "    test_loader = DataLoader(\n",
    "                      dataset=test_dataset,\n",
    "                      batch_size=BATCH_SIZE)\n",
    "    trained_model, H, _, _ = train(train_loader, \n",
    "                             test_loader, \n",
    "                             init_model, \n",
    "                             optimizer, \n",
    "                             loss_fn, \n",
    "                             len(train_loader.dataset), \n",
    "                             len(test_loader.dataset),\n",
    "                             BATCH_SIZE,\n",
    "                             N_EPOCHS,\n",
    "                             device, \n",
    "                             validation_mode='tuning',\n",
    "                             verbose=False)\n",
    "    score = H[\"test_acc\"]\n",
    "    result = {'params': [dropout_rate], \n",
    "              'accuracy': H['test_acc'], \n",
    "              'precision': H['test_precision'], \n",
    "              'recall': H['test_recall']}  \n",
    "    result = pd.DataFrame([result])\n",
    "    grid_search_df = pd.concat([grid_search_df, result], ignore_index=True)\n",
    "    print(grid_search_df.iloc[-1])\n",
    "    if score > best_score:\n",
    "        best_score = score\n",
    "        best_parameters = {'dropout rate': dropout_rate}\n",
    "        \n",
    "print(f\"[INFO] total time taken to run grid search: {(time.time() - startTime):.2f}s or {(time.time() - startTime)/60:.2f}min.\")          \n",
    "print(f\"Best: {best_score} using {best_parameters}\")\n",
    "print(grid_search_df)    "
   ]
  },
  {
   "cell_type": "code",
   "execution_count": 123,
   "id": "b49fcf7f",
   "metadata": {},
   "outputs": [],
   "source": [
    "DROPOUT_RATE = 0.2"
   ]
  },
  {
   "cell_type": "markdown",
   "id": "9531ead5",
   "metadata": {},
   "source": [
    "#### batch size + dropout rate + number of epochs (on whole dataset)"
   ]
  },
  {
   "cell_type": "code",
   "execution_count": 18,
   "id": "cee18945",
   "metadata": {},
   "outputs": [
    {
     "name": "stderr",
     "output_type": "stream",
     "text": [
      "Epoch 199: 100%|██████████| 200/200 [04:05<00:00,  1.23s/epoch, accuracy=94.3, loss=4.47]\n"
     ]
    },
    {
     "name": "stdout",
     "output_type": "stream",
     "text": [
      "params       [32, 200, 0.1]\n",
      "accuracy           0.933632\n",
      "precision          0.942534\n",
      "recall             0.936891\n",
      "Name: 0, dtype: object\n"
     ]
    },
    {
     "name": "stderr",
     "output_type": "stream",
     "text": [
      "Epoch 199: 100%|██████████| 200/200 [04:05<00:00,  1.23s/epoch, accuracy=92.2, loss=11.7]\n"
     ]
    },
    {
     "name": "stdout",
     "output_type": "stream",
     "text": [
      "params       [32, 200, 0.2]\n",
      "accuracy           0.929791\n",
      "precision          0.938831\n",
      "recall             0.932727\n",
      "Name: 1, dtype: object\n"
     ]
    },
    {
     "name": "stderr",
     "output_type": "stream",
     "text": [
      "Epoch 199: 100%|██████████| 200/200 [04:06<00:00,  1.23s/epoch, accuracy=90.9, loss=13.7]\n"
     ]
    },
    {
     "name": "stdout",
     "output_type": "stream",
     "text": [
      "params       [32, 200, 0.3]\n",
      "accuracy            0.93726\n",
      "precision          0.944829\n",
      "recall             0.939401\n",
      "Name: 2, dtype: object\n"
     ]
    },
    {
     "name": "stderr",
     "output_type": "stream",
     "text": [
      "Epoch 299: 100%|██████████| 300/300 [06:07<00:00,  1.23s/epoch, accuracy=96, loss=3.23]  \n"
     ]
    },
    {
     "name": "stdout",
     "output_type": "stream",
     "text": [
      "params       [32, 300, 0.1]\n",
      "accuracy           0.928724\n",
      "precision          0.941363\n",
      "recall             0.930633\n",
      "Name: 3, dtype: object\n"
     ]
    },
    {
     "name": "stderr",
     "output_type": "stream",
     "text": [
      "Epoch 299: 100%|██████████| 300/300 [06:08<00:00,  1.23s/epoch, accuracy=94.8, loss=2.73]\n"
     ]
    },
    {
     "name": "stdout",
     "output_type": "stream",
     "text": [
      "params       [32, 300, 0.2]\n",
      "accuracy           0.946863\n",
      "precision           0.95141\n",
      "recall             0.948966\n",
      "Name: 4, dtype: object\n"
     ]
    },
    {
     "name": "stderr",
     "output_type": "stream",
     "text": [
      "Epoch 299: 100%|██████████| 300/300 [06:07<00:00,  1.22s/epoch, accuracy=93, loss=6.51]  \n"
     ]
    },
    {
     "name": "stdout",
     "output_type": "stream",
     "text": [
      "params       [32, 300, 0.3]\n",
      "accuracy           0.942595\n",
      "precision           0.94982\n",
      "recall             0.942496\n",
      "Name: 5, dtype: object\n"
     ]
    },
    {
     "name": "stderr",
     "output_type": "stream",
     "text": [
      "Epoch 399: 100%|██████████| 400/400 [08:10<00:00,  1.23s/epoch, accuracy=97.3, loss=0.761]\n"
     ]
    },
    {
     "name": "stdout",
     "output_type": "stream",
     "text": [
      "params       [32, 400, 0.1]\n",
      "accuracy           0.948997\n",
      "precision          0.953492\n",
      "recall             0.950092\n",
      "Name: 6, dtype: object\n"
     ]
    },
    {
     "name": "stderr",
     "output_type": "stream",
     "text": [
      "Epoch 399: 100%|██████████| 400/400 [08:11<00:00,  1.23s/epoch, accuracy=96.4, loss=0.907]\n"
     ]
    },
    {
     "name": "stdout",
     "output_type": "stream",
     "text": [
      "params       [32, 400, 0.2]\n",
      "accuracy            0.94921\n",
      "precision          0.952021\n",
      "recall             0.952087\n",
      "Name: 7, dtype: object\n"
     ]
    },
    {
     "name": "stderr",
     "output_type": "stream",
     "text": [
      "Epoch 399: 100%|██████████| 400/400 [08:10<00:00,  1.23s/epoch, accuracy=95.2, loss=1.67]"
     ]
    },
    {
     "name": "stdout",
     "output_type": "stream",
     "text": [
      "params       [32, 400, 0.3]\n",
      "accuracy           0.944302\n",
      "precision          0.947772\n",
      "recall             0.946751\n",
      "Name: 8, dtype: object\n",
      "[INFO] total time taken to run grid search: 3316.48s or 55.27min.\n"
     ]
    },
    {
     "name": "stderr",
     "output_type": "stream",
     "text": [
      "\n"
     ]
    },
    {
     "data": {
      "text/html": [
       "<div>\n",
       "<style scoped>\n",
       "    .dataframe tbody tr th:only-of-type {\n",
       "        vertical-align: middle;\n",
       "    }\n",
       "\n",
       "    .dataframe tbody tr th {\n",
       "        vertical-align: top;\n",
       "    }\n",
       "\n",
       "    .dataframe thead th {\n",
       "        text-align: right;\n",
       "    }\n",
       "</style>\n",
       "<table border=\"1\" class=\"dataframe\">\n",
       "  <thead>\n",
       "    <tr style=\"text-align: right;\">\n",
       "      <th></th>\n",
       "      <th>params</th>\n",
       "      <th>accuracy</th>\n",
       "      <th>precision</th>\n",
       "      <th>recall</th>\n",
       "    </tr>\n",
       "  </thead>\n",
       "  <tbody>\n",
       "    <tr>\n",
       "      <th>7</th>\n",
       "      <td>[32, 400, 0.2]</td>\n",
       "      <td>0.94921</td>\n",
       "      <td>0.952021</td>\n",
       "      <td>0.952087</td>\n",
       "    </tr>\n",
       "    <tr>\n",
       "      <th>6</th>\n",
       "      <td>[32, 400, 0.1]</td>\n",
       "      <td>0.948997</td>\n",
       "      <td>0.953492</td>\n",
       "      <td>0.950092</td>\n",
       "    </tr>\n",
       "    <tr>\n",
       "      <th>4</th>\n",
       "      <td>[32, 300, 0.2]</td>\n",
       "      <td>0.946863</td>\n",
       "      <td>0.95141</td>\n",
       "      <td>0.948966</td>\n",
       "    </tr>\n",
       "    <tr>\n",
       "      <th>8</th>\n",
       "      <td>[32, 400, 0.3]</td>\n",
       "      <td>0.944302</td>\n",
       "      <td>0.947772</td>\n",
       "      <td>0.946751</td>\n",
       "    </tr>\n",
       "    <tr>\n",
       "      <th>5</th>\n",
       "      <td>[32, 300, 0.3]</td>\n",
       "      <td>0.942595</td>\n",
       "      <td>0.94982</td>\n",
       "      <td>0.942496</td>\n",
       "    </tr>\n",
       "    <tr>\n",
       "      <th>2</th>\n",
       "      <td>[32, 200, 0.3]</td>\n",
       "      <td>0.93726</td>\n",
       "      <td>0.944829</td>\n",
       "      <td>0.939401</td>\n",
       "    </tr>\n",
       "    <tr>\n",
       "      <th>0</th>\n",
       "      <td>[32, 200, 0.1]</td>\n",
       "      <td>0.933632</td>\n",
       "      <td>0.942534</td>\n",
       "      <td>0.936891</td>\n",
       "    </tr>\n",
       "    <tr>\n",
       "      <th>1</th>\n",
       "      <td>[32, 200, 0.2]</td>\n",
       "      <td>0.929791</td>\n",
       "      <td>0.938831</td>\n",
       "      <td>0.932727</td>\n",
       "    </tr>\n",
       "    <tr>\n",
       "      <th>3</th>\n",
       "      <td>[32, 300, 0.1]</td>\n",
       "      <td>0.928724</td>\n",
       "      <td>0.941363</td>\n",
       "      <td>0.930633</td>\n",
       "    </tr>\n",
       "  </tbody>\n",
       "</table>\n",
       "</div>"
      ],
      "text/plain": [
       "           params  accuracy precision    recall\n",
       "7  [32, 400, 0.2]   0.94921  0.952021  0.952087\n",
       "6  [32, 400, 0.1]  0.948997  0.953492  0.950092\n",
       "4  [32, 300, 0.2]  0.946863   0.95141  0.948966\n",
       "8  [32, 400, 0.3]  0.944302  0.947772  0.946751\n",
       "5  [32, 300, 0.3]  0.942595   0.94982  0.942496\n",
       "2  [32, 200, 0.3]   0.93726  0.944829  0.939401\n",
       "0  [32, 200, 0.1]  0.933632  0.942534  0.936891\n",
       "1  [32, 200, 0.2]  0.929791  0.938831  0.932727\n",
       "3  [32, 300, 0.1]  0.928724  0.941363  0.930633"
      ]
     },
     "execution_count": 18,
     "metadata": {},
     "output_type": "execute_result"
    }
   ],
   "source": [
    "startTime = time.time()\n",
    "\n",
    "param_space = {\n",
    "    \"batch_size\": [32],\n",
    "    \"num_epochs\": [200, 300, 400],\n",
    "    \"dropout_rate\": [0.1, 0.2, 0.3]\n",
    "}\n",
    "\n",
    "keys, values = zip(*param_space.items())\n",
    "param_combinations = [v for v in itertools.product(*values)]\n",
    "param_combinations\n",
    "\n",
    "X_tune, y_tune = X, y\n",
    "X_train, X_test, y_train, y_test = train_test_split(X_tune, y_tune, test_size=0.2, random_state=1)\n",
    "\n",
    "train_dataset = Data(X_train, y_train)\n",
    "test_dataset = Data(X_test, y_test)\n",
    "loss_fn = nn.CrossEntropyLoss()\n",
    "num_channels = 1\n",
    "num_classes = 70\n",
    "LEARNING_RATE = 1e-5\n",
    "\n",
    "grid_search_df = pd.DataFrame(columns=['params', 'accuracy', 'precision', 'recall'])\n",
    "for (batch_size, n_epochs, dropout_rate) in param_combinations:\n",
    "    init_model = SimpleCNN(num_channels, num_classes, dropout_rate).to(device)\n",
    "    optimizer = Adam(init_model.parameters(), lr=LEARNING_RATE)\n",
    "    train_loader = DataLoader(\n",
    "                      dataset=train_dataset, \n",
    "                      batch_size=batch_size)\n",
    "    test_loader = DataLoader(\n",
    "                      dataset=test_dataset,\n",
    "                      batch_size=batch_size)\n",
    "    trained_model, H, _, _ = train(train_loader, \n",
    "                             test_loader, \n",
    "                             init_model, \n",
    "                             optimizer, \n",
    "                             loss_fn, \n",
    "                             len(train_loader.dataset), \n",
    "                             len(test_loader.dataset),\n",
    "                             batch_size,\n",
    "                             n_epochs,\n",
    "                             device, \n",
    "                             validation_mode='tuning',\n",
    "                             verbose=False)\n",
    "    score = H[\"test_acc\"]\n",
    "    result = {'params': [batch_size, n_epochs, dropout_rate], \n",
    "              'accuracy': H['test_acc'], \n",
    "              'precision': H['test_precision'], \n",
    "              'recall': H['test_recall']}  \n",
    "    result = pd.DataFrame([result])\n",
    "    grid_search_df = pd.concat([grid_search_df, result], ignore_index=True)\n",
    "    print(grid_search_df.iloc[-1])\n",
    "        \n",
    "print(f\"[INFO] total time taken to run grid search: {(time.time() - startTime):.2f}s or {(time.time() - startTime)/60:.2f}min.\")          \n",
    "grid_search_df.sort_values(['accuracy', 'precision', 'recall'], ascending=False)"
   ]
  },
  {
   "cell_type": "markdown",
   "id": "f7762fbd",
   "metadata": {},
   "source": [
    "# Final evaluation using all available data with Stratified K-fold Cross-Validation (sklearn)"
   ]
  },
  {
   "cell_type": "code",
   "execution_count": null,
   "id": "9d1d4ef0",
   "metadata": {},
   "outputs": [
    {
     "name": "stdout",
     "output_type": "stream",
     "text": [
      "[INFO] Fold #1: Starting.\n",
      "[INFO] Training the network...\n"
     ]
    },
    {
     "name": "stderr",
     "output_type": "stream",
     "text": [
      "Epoch 349: 100%|██████████| 350/350 [07:34<00:00,  1.30s/epoch, accuracy=97, loss=2.14]   \n"
     ]
    },
    {
     "name": "stdout",
     "output_type": "stream",
     "text": [
      "[INFO] Total time taken to train the model: 454.79s or 7.58min.\n",
      "Training process has finished. Saving trained model.\n",
      "Accuracy for fold #1: 95.67%\n",
      "Precision for fold #1: 95.95%\n",
      "Recall for fold #1: 95.69%\n",
      "Loss for fold #1: 1.76\n",
      "================================================\n",
      "[INFO] Fold #2: Starting.\n",
      "[INFO] Training the network...\n"
     ]
    },
    {
     "name": "stderr",
     "output_type": "stream",
     "text": [
      "Epoch 349: 100%|██████████| 350/350 [07:34<00:00,  1.30s/epoch, accuracy=96.8, loss=2.14] \n"
     ]
    },
    {
     "name": "stdout",
     "output_type": "stream",
     "text": [
      "[INFO] Total time taken to train the model: 454.95s or 7.58min.\n",
      "Training process has finished. Saving trained model.\n",
      "Accuracy for fold #2: 95.13%\n",
      "Precision for fold #2: 95.32%\n",
      "Recall for fold #2: 95.19%\n",
      "Loss for fold #2: 5.33\n",
      "================================================\n",
      "[INFO] Fold #3: Starting.\n",
      "[INFO] Training the network...\n"
     ]
    },
    {
     "name": "stderr",
     "output_type": "stream",
     "text": [
      "Epoch 349: 100%|██████████| 350/350 [07:35<00:00,  1.30s/epoch, accuracy=96.4, loss=1.7]  \n"
     ]
    },
    {
     "name": "stdout",
     "output_type": "stream",
     "text": [
      "[INFO] Total time taken to train the model: 455.91s or 7.60min.\n",
      "Training process has finished. Saving trained model.\n",
      "Accuracy for fold #3: 95.11%\n",
      "Precision for fold #3: 95.28%\n",
      "Recall for fold #3: 95.16%\n",
      "Loss for fold #3: 3.07\n",
      "================================================\n",
      "[INFO] Fold #4: Starting.\n",
      "[INFO] Training the network...\n"
     ]
    },
    {
     "name": "stderr",
     "output_type": "stream",
     "text": [
      "Epoch 70:  20%|██        | 70/350 [01:31<06:02,  1.30s/epoch, accuracy=87.8, loss=29.5] "
     ]
    }
   ],
   "source": [
    "LEARNING_RATE = 1e-5\n",
    "N_EPOCHS = 350\n",
    "BATCH_SIZE = 32\n",
    "DROPOUT_RATE = 0.1\n",
    "num_channels = 1 \n",
    "num_classes = 70\n",
    "loss_fn = nn.CrossEntropyLoss()\n",
    "\n",
    "startTime = time.time()\n",
    "\n",
    "results = {}\n",
    "whole_dataset = Data(X, y)\n",
    "kfold = StratifiedKFold(n_splits=5, shuffle=True, random_state=2)\n",
    "for fold, (train_ids, test_ids) in enumerate(kfold.split(X, y)):\n",
    "    print(f\"[INFO] Fold #{fold+1}: Starting.\")\n",
    "    train_subsampler = torch.utils.data.SubsetRandomSampler(train_ids)\n",
    "    test_subsampler = torch.utils.data.SubsetRandomSampler(test_ids)\n",
    "\n",
    "    trainloader = DataLoader(\n",
    "                      dataset=whole_dataset, \n",
    "                      batch_size=BATCH_SIZE, \n",
    "                      sampler=train_subsampler)\n",
    "    testloader = DataLoader(\n",
    "                      dataset=whole_dataset,\n",
    "                      batch_size=BATCH_SIZE, \n",
    "                      sampler=test_subsampler)\n",
    "    \n",
    "    model = SimpleCNN(num_channels, num_classes, DROPOUT_RATE).to(device)\n",
    "    optimizer = Adam(model.parameters(), lr=LEARNING_RATE)\n",
    "\n",
    "\n",
    "    # Start training \n",
    "    trained_model, H, y_pred, y_true = train(trainloader, \n",
    "                                 testloader, \n",
    "                                 model, \n",
    "                                 optimizer, \n",
    "                                 loss_fn, \n",
    "                                 len(trainloader.sampler.indices), \n",
    "                                 len(testloader.sampler.indices),\n",
    "                                 BATCH_SIZE,\n",
    "                                 N_EPOCHS,\n",
    "                                 device, \n",
    "                                 validation_mode='cross_validation',\n",
    "                                 verbose=True)\n",
    "    \n",
    "    if set(y_true) - set(y_pred):\n",
    "        print(f\"[WARNING] Computation of some metrics may be incorrect. \\n set(y_true) - set(y_pred) = {set(y_true) - set(y_pred)}\")\n",
    "    print('Training process has finished. Saving trained model.')\n",
    "    save_path = f'../models/cnn-fold-{fold}.md'\n",
    "    torch.save(trained_model.state_dict(), save_path)\n",
    "\n",
    "    # Evaluation for this fold\n",
    "    print(f'Accuracy for fold #{fold+1}: {(100. * H[\"test_acc\"]):.2f}%')\n",
    "    print(f'Precision for fold #{fold+1}: {(100. * H[\"test_precision\"]):.2f}%')\n",
    "    print(f'Recall for fold #{fold+1}: {(100. * H[\"test_recall\"]):.2f}%')\n",
    "    print(f'Loss for fold #{fold+1}: {H[\"test_loss\"]:.2f}')\n",
    "    print(\"================================================\")\n",
    "    results[fold] = H\n",
    "\n",
    "print(\"================================================\")\n",
    "print(f\"[INFO] total time taken to evaluate the model: {(time.time() - startTime):.2f}s or {(time.time() - startTime)/60:.2f}min.\")  \n",
    "print(f\"Results for 5-fold Cross-Validation:\")"
   ]
  },
  {
   "cell_type": "code",
   "execution_count": 42,
   "id": "facf34e6",
   "metadata": {},
   "outputs": [
    {
     "name": "stdout",
     "output_type": "stream",
     "text": [
      "====================================================================\n",
      "Average accuracy across 5-folder: 94.86% (std 0.00)\n",
      "Average loss across 5-folder: 3.44 (std 1.22)\n",
      "Average precision across 5-folder: 95.19% (std 0.00)\n",
      "Average recall across 5-folder: 94.91% (std 0.00)\n",
      "====================================================================\n",
      "Fold 0 - Accuracy: 0.949, Precision: 0.951, Recall: 0.949\n",
      "Fold 1 - Accuracy: 0.951, Precision: 0.956, Recall: 0.951\n",
      "Fold 2 - Accuracy: 0.950, Precision: 0.952, Recall: 0.951\n",
      "Fold 3 - Accuracy: 0.946, Precision: 0.951, Recall: 0.947\n",
      "Fold 4 - Accuracy: 0.947, Precision: 0.950, Recall: 0.948\n"
     ]
    }
   ],
   "source": [
    "test_accuracies = np.array([value[\"test_acc\"] for value in results.values()])\n",
    "test_losses = np.array([value[\"test_loss\"] for value in results.values()])\n",
    "test_precisions = np.array([value[\"test_precision\"] for value in results.values()])\n",
    "test_recalls = np.array([value[\"test_recall\"] for value in results.values()])\n",
    "\n",
    "print(\"====================================================================\")\n",
    "print(f\"Average accuracy across 5-folder: {100. * test_accuracies.mean():.2f}% (std {test_accuracies.std():.2f})\")\n",
    "print(f\"Average loss across 5-folder: {test_losses.mean():.2f} (std {test_losses.std():.2f})\")\n",
    "print(f\"Average precision across 5-folder: {100. * test_precisions.mean():.2f}% (std {test_precisions.std():.2f})\")\n",
    "print(f\"Average recall across 5-folder: {100. * test_recalls.mean():.2f}% (std {test_recalls.std():.2f})\")\n",
    "print(\"====================================================================\")\n",
    "\n",
    "for i, value in enumerate(results.values()):\n",
    "    print(f\"Fold {i} - Accuracy: {value['test_acc']:.3f}, Precision: {value['test_precision']:.3f}, Recall: {value['test_recall']:.3f}\")"
   ]
  },
  {
   "cell_type": "code",
   "execution_count": 45,
   "id": "77a19016",
   "metadata": {},
   "outputs": [
    {
     "data": {
      "image/png": "[encoded data removed]",
      "text/plain": [
       "<Figure size 1080x720 with 1 Axes>"
      ]
     },
     "metadata": {},
     "output_type": "display_data"
    }
   ],
   "source": [
    "%matplotlib inline\n",
    "H = results[4]\n",
    "\n",
    "# plot the training loss and accuracy\n",
    "plt.rcParams['figure.figsize'] = [15, 10]\n",
    "plt.style.use(\"ggplot\")\n",
    "plt.figure()\n",
    "# plt.plot(H[\"train_loss\"], label=\"train_loss\")\n",
    "plt.plot(H[\"train_acc\"], label=\"train_acc\")\n",
    "plt.title(\"Training Accuracy on Dataset\")\n",
    "plt.xlabel(\"Epoch #\")\n",
    "plt.ylabel(\"Loss/Accuracy\")\n",
    "plt.legend(loc=\"lower left\")\n",
    "plt.ylim([0.8, 1])\n",
    "plt.savefig('../training_acc.png')\n",
    "plt.show()"
   ]
  },
  {
   "cell_type": "code",
   "execution_count": null,
   "id": "4378a0a6",
   "metadata": {},
   "outputs": [],
   "source": []
  }
 ],
 "metadata": {
  "kernelspec": {
   "display_name": "Python 3 (ipykernel)",
   "language": "python",
   "name": "python3"
  },
  "language_info": {
   "codemirror_mode": {
    "name": "ipython",
    "version": 3
   },
   "file_extension": ".py",
   "mimetype": "text/x-python",
   "name": "python",
   "nbconvert_exporter": "python",
   "pygments_lexer": "ipython3",
   "version": "3.10.13"
  }
 },
 "nbformat": 4,
 "nbformat_minor": 5
}
