{
 "cells": [
  {
   "cell_type": "markdown",
   "id": "5c4abeb9-d344-4bfa-9b23-8ff7e6cbe9fd",
   "metadata": {
    "ExecuteTime": {
     "end_time": "2023-12-05T10:55:14.357119Z",
     "start_time": "2023-12-05T10:55:14.346534Z"
    },
    "collapsed": true
   },
   "source": [
    "### Imports"
   ]
  },
  {
   "cell_type": "code",
   "execution_count": null,
   "id": "b041f52e-0e70-4ead-930e-e7ad7f3beb02",
   "metadata": {},
   "outputs": [],
   "source": [
    "import numpy as np\n",
    "import matplotlib.pyplot as plt \n",
    "import pandas as pd\n",
    "from sklearn import preprocessing\n",
    "import glob\n",
    "import sys\n",
    "import random\n",
    "sys.path.append('../src')\n",
    "from utils import load_dataset, plot_spectrum, save_object, load_object, subset_dataset_from_indices, plot_prediction_hist\n",
    "\n",
    "pd.options.display.max_rows = 4000"
   ]
  },
  {
   "cell_type": "markdown",
   "id": "d631222b-6801-4993-83d4-2b73fedf45c9",
   "metadata": {
    "jp-MarkdownHeadingCollapsed": true
   },
   "source": [
    "# 1. Generate RANDOM OOD data (ID classification + OOD detection scores)"
   ]
  },
  {
   "cell_type": "code",
   "execution_count": null,
   "id": "672449cc-8d54-49c0-92b3-c9f50f298d39",
   "metadata": {},
   "outputs": [],
   "source": [
    "seed = 40\n",
    "rng = np.random.default_rng(seed)\n",
    "use_retention_time = True\n",
    "data_root_path = \"../data\"\n",
    "id_dataset_name = \"spectrum_exported\"\n",
    "id_dataset = load_dataset(data_dir=data_root_path + '/id/', dataset_name=id_dataset_name, use_retention_time=use_retention_time, verbose=True)\n",
    "sze = (10000, id_dataset['data_points'].shape[1])"
   ]
  },
  {
   "cell_type": "markdown",
   "id": "395e40bb-4c2f-4e01-9451-4bb7ec650043",
   "metadata": {},
   "source": [
    "### Uniform noise"
   ]
  },
  {
   "cell_type": "code",
   "execution_count": null,
   "id": "f117cf145f342379",
   "metadata": {
    "collapsed": false
   },
   "outputs": [],
   "source": [
    "uniform = rng.uniform(0, 1, sze).astype('float32')"
   ]
  },
  {
   "cell_type": "markdown",
   "id": "f0a74309-017f-4f27-b7a3-7a0e6a552ba7",
   "metadata": {},
   "source": [
    "### Gaussian noise"
   ]
  },
  {
   "cell_type": "code",
   "execution_count": null,
   "id": "6f49352e-ac07-4841-b194-0d3e15600052",
   "metadata": {},
   "outputs": [],
   "source": [
    "mu = 0.5\n",
    "std = 1.0\n",
    "gaussian = rng.normal(mu, std, size=sze).astype('float32')"
   ]
  },
  {
   "cell_type": "markdown",
   "id": "892a5420-5758-4c5b-ab4a-b0ed936050df",
   "metadata": {},
   "source": [
    "## Compare ID distribution and syntetic OOD distributions"
   ]
  },
  {
   "cell_type": "code",
   "execution_count": null,
   "id": "7bf10b1b-3b77-47ff-a912-fddf1b947fb3",
   "metadata": {},
   "outputs": [],
   "source": [
    "_ = plt.hist(id_dataset['data_points'][0], bins = 20, density = True)"
   ]
  },
  {
   "cell_type": "code",
   "execution_count": null,
   "id": "3f8ef6fa-79d7-47ca-b923-d2c6f822fce9",
   "metadata": {},
   "outputs": [],
   "source": [
    "_ = plt.hist(uniform[0], bins = 20, density = True)"
   ]
  },
  {
   "cell_type": "code",
   "execution_count": null,
   "id": "db972e63-a48f-4a06-a61e-8449473c2d4f",
   "metadata": {},
   "outputs": [],
   "source": [
    "_ = plt.hist(gaussian[0], bins = 20, density = True)"
   ]
  },
  {
   "cell_type": "code",
   "execution_count": null,
   "id": "d25af512-e3be-498e-a8a9-d9941ef71f05",
   "metadata": {},
   "outputs": [],
   "source": [
    "print(f\"ID - mean: {id_dataset['data_points'].mean():.2f}, std: {id_dataset['data_points'].std():.2f}\")\n",
    "print(f\"Uniform - mean: {uniform.mean():.2f}, std: {uniform.std():.2f}\")\n",
    "print(f\"Gaussian - mean: {gaussian.mean():.2f}, std: {gaussian.std():.2f}\")"
   ]
  },
  {
   "cell_type": "code",
   "execution_count": null,
   "id": "3999e7d2-3bf2-48b7-96e6-58b9d38a34ca",
   "metadata": {},
   "outputs": [],
   "source": [
    "fake_metadata = pd.DataFrame({'system' : [-1], 'annotator_ID': [-1], 'measurement_number': [-1], 'compound': ['unknown']})\n",
    "plot_spectrum(uniform[1], fake_metadata.iloc[0])"
   ]
  },
  {
   "cell_type": "code",
   "execution_count": null,
   "id": "96da029f-7c41-490b-98ac-7867aa68bd1c",
   "metadata": {},
   "outputs": [],
   "source": [
    "plot_spectrum(gaussian[1], fake_metadata.iloc[0])"
   ]
  },
  {
   "cell_type": "markdown",
   "id": "a08ec1f8-d905-4847-8b72-f43c69b8e28b",
   "metadata": {},
   "source": [
    "#### Save to disk"
   ]
  },
  {
   "cell_type": "code",
   "execution_count": null,
   "id": "9bf833e1-a242-48ff-854a-06b3687a84ea",
   "metadata": {},
   "outputs": [],
   "source": [
    "suffix = \"_rt\" if use_retention_time else \"\"\n",
    "save_path = f\"{data_root_path}/ood/uniform/\"\n",
    "save_object(uniform, save_path + f\"uniform{suffix}.pkl\")"
   ]
  },
  {
   "cell_type": "code",
   "execution_count": null,
   "id": "27cb1680-4818-41b8-8507-d12b164f651e",
   "metadata": {},
   "outputs": [],
   "source": [
    "save_path = f\"{data_root_path}/ood/gaussian/\"\n",
    "save_object(gaussian, save_path + f\"gaussian{suffix}.pkl\")"
   ]
  },
  {
   "cell_type": "markdown",
   "id": "f4a3f30c-e8fe-405c-9be6-4a1ec80ccc94",
   "metadata": {
    "is_executing": true,
    "jp-MarkdownHeadingCollapsed": true
   },
   "source": [
    "# 2. Generate QUANTITATIVE syntetic OOD data (ID classification + OOD detection scores)\n",
    "* kvatitativni umělý - vyber si subset sloucenin, ktery budes povazovat za ood (redukujes pocet trid), a crossval zmer uspesnost pro ruzny pomery id/ood;\n",
    "* -> z celkových 70 tříd rozdělím ID/OOD dataset na 65/5, 50/20, 40/30, atd. tříd. Na to hodím 5-fold cross-validaci pro každou kombinaci tříd\n",
    "  \n",
    "#### Splits:\n",
    "| ratio | ID num_classes | ID samples | OOD num_classes | OOD samples | \n",
    "| ----- | -------------- | ---------- | -------------- | ------------ |\n",
    "| 0.05  |     67         |     22451  |        3       |     979      |\n",
    "| 0.1   |     63         |     21111  |        7       |     2319     |\n",
    "| 0.2   |     56         |     18694  |        14      |     4736     |"
   ]
  },
  {
   "cell_type": "code",
   "execution_count": null,
   "id": "564f5b6f-3bdb-4654-82c2-a999b861eb18",
   "metadata": {},
   "outputs": [],
   "source": [
    "data = load_dataset(data_dir='../data/id/', dataset_name='spectrum_exported', use_retention_time=False, verbose=True)\n",
    "X, y, metadata = data['data_points'], data['data_labels'], data['metadata']"
   ]
  },
  {
   "cell_type": "code",
   "execution_count": null,
   "id": "72548094-1a81-41a1-aaab-19228b0ec30e",
   "metadata": {},
   "outputs": [],
   "source": [
    "def split_data_distinct_classes(data, labels, ood_ratio, seed):\n",
    "    random.seed(seed)\n",
    "    num_classes = np.unique(y).size\n",
    "    \n",
    "    ood_num_classes = int(num_classes * ood_ratio)\n",
    "    id_num_classes = num_classes - ood_num_classes\n",
    "    print(f\"Number of classes: ID {id_num_classes}, OOD {ood_num_classes}\")\n",
    "    \n",
    "    ood_labels = np.array(random.sample(np.unique(labels).tolist(), ood_num_classes))\n",
    "    id_labels = np.unique(labels)[~np.isin(np.unique(labels), ood_labels)]\n",
    "    return id_labels, ood_labels"
   ]
  },
  {
   "cell_type": "markdown",
   "id": "e0d5ef97-067d-4c15-9324-0fd45cfb2c06",
   "metadata": {},
   "source": [
    "## ``Cross-validation'' for each ID-to-OOD ratio"
   ]
  },
  {
   "cell_type": "code",
   "execution_count": null,
   "id": "f8fd4ec5-2df0-44d3-b820-b7e8bc170e5d",
   "metadata": {
    "scrolled": true
   },
   "outputs": [],
   "source": [
    "seed = 100\n",
    "ood_ratio = 0.1\n",
    "k = 10\n",
    "data_root_path = \"../data\"\n",
    "labels = np.unique(sorted(metadata['compound']))\n",
    "\n",
    "id_labels = []\n",
    "ood_labels = []\n",
    "for k in range(k):\n",
    "    id_labels_, ood_labels_ = split_data_distinct_classes(X, y, ood_ratio, seed+k)\n",
    "    save_path = f\"{data_root_path}/id/synthetic_spectrum/\"\n",
    "    save_object(id_labels_, save_path + f\"synthetic_spectrum_{ood_ratio}_{seed+k}.pkl\")\n",
    "    save_path = f\"{data_root_path}/ood/synthetic_spectrum/\"\n",
    "    save_object(ood_labels_, save_path + f\"synthetic_spectrum_{ood_ratio}_{seed+k}.pkl\")\n",
    "    id_labels.append(id_labels_)\n",
    "    ood_labels.append(ood_labels_)"
   ]
  },
  {
   "cell_type": "markdown",
   "id": "95ae7f4a-a930-41fb-be97-79177fb14711",
   "metadata": {},
   "source": [
    "## Extension of the Cross-Validation where similar substances are not divided into different splits"
   ]
  },
  {
   "cell_type": "code",
   "execution_count": null,
   "id": "9aaee681-9351-4b88-a876-37a9e94aff24",
   "metadata": {},
   "outputs": [],
   "source": [
    "labels = sorted(np.unique(metadata['compound']))\n",
    "similar_classes = labels[16:21]\n",
    "print(similar_classes)\n",
    "\n",
    "similar_classes_labels = []\n",
    "for i in similar_classes:\n",
    "    similar_classes_labels.append(y[metadata['compound'] == i][0])\n",
    "print(similar_classes_labels)"
   ]
  },
  {
   "cell_type": "code",
   "execution_count": null,
   "id": "917900cc-7c12-4500-8035-1c3aa706d0c6",
   "metadata": {},
   "outputs": [],
   "source": [
    "data_root_path = \"../data\"\n",
    "seed = 42\n",
    "k = 0\n",
    "num_classes = len(labels)\n",
    "ood_ratio = round(len(similar_classes) / num_classes, 2)\n",
    "ood_num_classes = round(num_classes * ood_ratio)\n",
    "id_num_classes = num_classes - ood_num_classes\n",
    "print(f\"Number of classes: ID {id_num_classes}, OOD {ood_num_classes}\")\n",
    "\n",
    "ood_labels = similar_classes_labels\n",
    "id_labels = np.unique(y)[~np.isin(np.unique(y), ood_labels)]\n",
    "\n",
    "save_path = f\"{data_root_path}/id/synthetic_spectrum/\"\n",
    "save_object(id_labels, save_path + f\"synthetic_spectrum_{ood_ratio}_{seed+k}.pkl\")\n",
    "save_path = f\"{data_root_path}/ood/synthetic_spectrum/\"\n",
    "save_object(ood_labels, save_path + f\"synthetic_spectrum_{ood_ratio}_{seed+k}.pkl\")\n",
    "print(id_labels)\n",
    "print(ood_labels)\n",
    "\n",
    "# invert the ratio\n",
    "ood_ratio = round(1 - (len(similar_classes) / num_classes), 2)\n",
    "ood_num_classes = round(num_classes * ood_ratio)\n",
    "id_num_classes = num_classes - ood_num_classes\n",
    "print(f\"Number of classes: ID {id_num_classes}, OOD {ood_num_classes}\")\n",
    "\n",
    "id_labels = similar_classes_labels\n",
    "ood_labels = np.unique(y)[~np.isin(np.unique(y), ood_labels)]\n",
    "\n",
    "save_path = f\"{data_root_path}/id/synthetic_spectrum/\"\n",
    "save_object(id_labels, save_path + f\"synthetic_spectrum_{ood_ratio}_{seed+k}.pkl\")\n",
    "save_path = f\"{data_root_path}/ood/synthetic_spectrum/\"\n",
    "save_object(ood_labels, save_path + f\"synthetic_spectrum_{ood_ratio}_{seed+k}.pkl\")\n",
    "print(id_labels)\n",
    "print(ood_labels)"
   ]
  },
  {
   "cell_type": "markdown",
   "id": "9696626a-9969-4ca6-985f-dd78c8149e74",
   "metadata": {},
   "source": [
    "### Run experiments using the `main.py' script\n",
    "* evaluate all OOD detectors on each split and save the metrics to log file and the OOD score pdf curves into folder\n",
    "* produce results for a specific `ood_to_id_ratio` as a mean of the fold values and save it to file"
   ]
  },
  {
   "cell_type": "code",
   "execution_count": null,
   "id": "05ba726c-c88a-4005-91f0-52b28cef9ff5",
   "metadata": {},
   "outputs": [],
   "source": [
    "def load_performance(performance_root_path, model, use_retention_time, ood_to_id_ratio, k):\n",
    "    suffix = \"_w_rt\" if use_retention_time else \"\"\n",
    "    seed = int(ood_to_id_ratio * 1000 + k)\n",
    "    load_path = f\"{performance_root_path}/seed-{seed}/{model}{suffix}/synthetic_spectrum_{ood_to_id_ratio}_{seed}/synthetic_spectrum_{ood_to_id_ratio}_{seed}/\"\n",
    "    col_names = [\"detector_name\",\t\"auroc\",\t\"fpr.95\",\t\"dtacc\",\t\"auin\",\t\"auout\",\t\"id_accuracy\",\t\"id_precision\",\t\"id_recall\"]\n",
    "    performance = pd.read_csv(load_path + f\"ood-synthetic_spectrum_{ood_to_id_ratio}_{seed}.csv\", names=col_names, header=0)\n",
    "    return performance\n",
    "         \n",
    "performance_root_path = \"../logs\"\n",
    "model = \"svm\"\n",
    "num_folds = 10\n",
    "ood_to_id_ratios = [0.1, 0.9]\n",
    "\n",
    "final_perf = {}\n",
    "for use_retention_time in [False, True]:\n",
    "    suffix = \"w_rt\" if use_retention_time else \"wo_rt\"\n",
    "    final_perf[suffix] = {}\n",
    "    for ratio in ood_to_id_ratios:\n",
    "        perfs = []\n",
    "        for k in range(num_folds):\n",
    "            perfs.append(load_performance(performance_root_path, model, use_retention_time=use_retention_time, ood_to_id_ratio=ratio, k=k))\n",
    "        final_perf[suffix][ratio] = pd.concat(perfs)\n",
    "        final_perf[suffix][ratio] = final_perf[suffix][ratio].drop('dtacc', axis=1)\n",
    "        final_perf[suffix][ratio] = final_perf[suffix][ratio].drop(final_perf[suffix][ratio][final_perf[suffix][ratio]['detector_name'] == 'vim'].index, axis=0)\n",
    "        final_perf[suffix][ratio] = final_perf[suffix][ratio].groupby([\"detector_name\"]).mean()\n",
    "        final_perf[suffix][ratio] = final_perf[suffix][ratio].round(4)"
   ]
  },
  {
   "cell_type": "code",
   "execution_count": null,
   "id": "61c29fc5-d76e-4701-b10d-cc3833ca5b45",
   "metadata": {},
   "outputs": [],
   "source": [
    "final_perf['wo_rt'][0.1]"
   ]
  },
  {
   "cell_type": "code",
   "execution_count": null,
   "id": "085e1b58-8605-4c89-8062-13383532010d",
   "metadata": {},
   "outputs": [],
   "source": [
    "final_perf['w_rt'][0.1][final_perf['w_rt'][0.1]['detector_name'] == 'msp']"
   ]
  },
  {
   "cell_type": "code",
   "execution_count": null,
   "id": "bbfd978a-c865-41a2-a57f-4c93c09b71a2",
   "metadata": {},
   "outputs": [],
   "source": [
    "final_perf['w_rt'][0.1].groupby(['detector_name']).agg(list)"
   ]
  },
  {
   "cell_type": "markdown",
   "id": "fc7f2bdc-526f-4298-b2f9-3deb6128740e",
   "metadata": {},
   "source": [
    "# 3. Process QUALITATIVE OOD data (ID classification + OOD detection scores)\n",
    "* ID dataset = `spectrum_exported`\n",
    "* OOD dataset = `M29_9_system2` (GCxGC containing 2000 x 460 spectrums)\n",
    "\n",
    "## Evaluation pipeline:\n",
    "1. export `M29_9_system2` as a OOD dataset with shape (2000 * 460, 801)\n",
    "2. create classification predictions and compute OOD scores\n",
    "3. select threshold for OOD detection so that we have 95% TPR on ID dataset\n",
    "4. produce final predictions by running OOD detector with found threshold, reject classifier's predictions for those that marked as OOD samples\n",
    "5. vizualize the prediction on GCxGC by coloring spectrum according to the final predictions"
   ]
  },
  {
   "cell_type": "markdown",
   "id": "7d9b719f-449d-49da-b385-f5e156963f15",
   "metadata": {},
   "source": [
    "### 0. Load and visualize OOD data as a GCxGC diagram "
   ]
  },
  {
   "cell_type": "code",
   "execution_count": null,
   "id": "232ef14f-f7a9-4d87-a0b4-d5ce3645d5af",
   "metadata": {},
   "outputs": [],
   "source": [
    "data_root_path = \"../data\"\n",
    "ood_dataset_name = \"M29_9_system2\"\n",
    "gcxgc = np.load(f\"{data_root_path}/ood/{ood_dataset_name}/{ood_dataset_name}.npy\").astype('float32')\n",
    "print(gcxgc.shape)"
   ]
  },
  {
   "cell_type": "markdown",
   "id": "c7045d4e-f3de-4c48-a7b5-26ea30bafba0",
   "metadata": {},
   "source": [
    "#### TIC GCxGC by summing the first dimension"
   ]
  },
  {
   "cell_type": "code",
   "execution_count": null,
   "id": "9eb10d00-4f11-494e-a487-b0fef123f178",
   "metadata": {},
   "outputs": [],
   "source": [
    "import matplotlib\n",
    "import matplotlib.patches as mpatches\n",
    "from matplotlib.colors import LinearSegmentedColormap\n",
    "\n",
    "cmap_name = 'jet'\n",
    "cmap = matplotlib.colormaps[cmap_name]\n",
    "colors_lst = [(0.99, 0.99, 0.99)]\n",
    "start_i = 18\n",
    "for i in range(start_i, 255-start_i, 1):\n",
    "    (r, g, b, _) = cmap(int(i))\n",
    "    colors_lst.append((r, g, b))\n",
    "\n",
    "# set OOD as white and invalid measurements as black\n",
    "custom_cmap = LinearSegmentedColormap.from_list('jet+white', colors_lst)\n",
    "custom_cmap"
   ]
  },
  {
   "cell_type": "code",
   "execution_count": null,
   "id": "210c9ce6-32ce-4b53-bd67-4b96aa66d9f8",
   "metadata": {},
   "outputs": [],
   "source": [
    "gcxgc_normalized = np.sum(gcxgc, axis=0)\n",
    "\n",
    "t1 = np.array([6*(i+1) for i in range(0, 200, 1)] + [6*200 + 8*(i+1) for i, _ in enumerate(range(200, 311, 1))] + [6*200 + 8*111 + 10*(i+1) for i, _ in enumerate(range(311, gcxgc.shape[2], 1))])\n",
    "t2 = np.array([0.005*(i+1) for i in range(gcxgc.shape[1])])\n",
    "xs1 = [1, 100, 200, 311, 460]\n",
    "xs2 = [1, 500, 1000, 1500, 2000]\n",
    "t1_sampled = [t1[int(j-1)] for j in xs1]\n",
    "t2_sampled = [t2[int(j-1)] for j in xs2]\n",
    "\n",
    "gcxgc_normalized[gcxgc_normalized == 0] = -1\n",
    "save_path = '../figures'\n",
    "plt.figure(figsize=(9, 6), dpi=170)\n",
    "plt.imshow(gcxgc_normalized, cmap=custom_cmap)\n",
    "plt.gca().invert_yaxis()\n",
    "plt.gca().set_aspect(aspect=str(0.2))\n",
    "plt.xlabel('Retention time in the first dimension [s]')\n",
    "plt.ylabel('Retention time in the second dimension [s]')\n",
    "plt.xticks(xs1, t1_sampled)\n",
    "plt.yticks(xs2, t2_sampled)\n",
    "plt.colorbar(label=\"Summed m/z values\", orientation=\"vertical\") \n",
    "plt.savefig(f'{save_path}/GCxGC_tic.png', bbox_inches='tight')\n",
    "plt.show()"
   ]
  },
  {
   "cell_type": "markdown",
   "id": "99c6a6bb-80e6-4c07-a7bb-cf9ad3217e3b",
   "metadata": {},
   "source": [
    "### 1. Export `M29_9_system2` as a OOD dataset with shape (2000 * 460, 801)"
   ]
  },
  {
   "cell_type": "code",
   "execution_count": null,
   "id": "05c7db85-7695-4d7a-8343-36b2026bd597",
   "metadata": {},
   "outputs": [],
   "source": [
    "print(f\"[INFO] Original dataset size: ({gcxgc.shape[1] * gcxgc.shape[2]}, {gcxgc.shape[0]})\")\n",
    "\n",
    "# the machine did not measure on at some times, exclude that from predictions\n",
    "mask_valid_measurements = (gcxgc_normalized != 0)\n",
    "qual_ood_dataset = gcxgc[:, mask_valid_measurements].transpose(1, 0)\n",
    "print(f\"[INFO] Dataset size after filtering empty measurements {qual_ood_dataset.shape}\")\n",
    "\n",
    "# Load test dataset and predict labels\n",
    "data_root_path = \"../data\"\n",
    "ood_dataset_name = \"M29_9_system2\"\n",
    "gcxgc = np.load(f\"{data_root_path}/ood/{ood_dataset_name}/{ood_dataset_name}.npy\")\n",
    "\n",
    "# Calculate normalized retention times\n",
    "t1 = np.array([6*(i+1) for i in range(0, 200, 1)] + [6*200 + 8*(i+1) for i, _ in enumerate(range(200, 311, 1))] + [6*200 + 8*111 + 10*(i+1) for i, _ in enumerate(range(311, gcxgc.shape[2], 1))])\n",
    "t2 = np.array([0.005*(i+1) for i in range(gcxgc.shape[1])])\n",
    "t1 = t1.reshape(1, -1)\n",
    "t2 = t2.reshape(-1, 1)\n",
    "\n",
    "gcxgc_normalized = np.sum(gcxgc, axis=0)\n",
    "\n",
    "# concatenate with the 801-dimensional vector of spectrums\n",
    "t1_2d = np.tile(t1, (2000, 1))\n",
    "t2_2d = np.tile(t2, (1, 460))\n",
    "t1_2d = np.expand_dims(t1_2d, axis=0)\n",
    "t2_2d = np.expand_dims(t2_2d, axis=0)\n",
    "gcxgc = np.concatenate((gcxgc, t1_2d, t2_2d), axis=0)\n",
    "\n",
    "eps = 0\n",
    "mask_valid_measurements = (gcxgc_normalized > eps)\n",
    "qual_ood_dataset = gcxgc[:, mask_valid_measurements].transpose(1, 0)\n",
    "print(f\"[INFO] Testing dataset loaded: {qual_ood_dataset.shape}\")"
   ]
  },
  {
   "cell_type": "raw",
   "id": "f72255ba-5307-411f-9825-ab73b10af4a2",
   "metadata": {},
   "source": [
    "data_root_path = \"../data\"\n",
    "ood_dataset_name = \"M29_9_system2\"\n",
    "save_path = f\"{data_root_path}/ood/{ood_dataset_name}/\"\n",
    "save_object(qual_ood_dataset, save_path + \"M29_9_system2_rt.pkl\")"
   ]
  },
  {
   "cell_type": "code",
   "execution_count": null,
   "id": "0365ea04-bb84-4aba-a38c-81b6c0af8e73",
   "metadata": {},
   "outputs": [],
   "source": [
    "from sklearn.preprocessing import Normalizer\n",
    "normalizer = Normalizer(norm='max')\n",
    "qual_ood_dataset = normalizer.fit_transform(qual_ood_dataset)"
   ]
  },
  {
   "cell_type": "markdown",
   "id": "4b5baa0c-bb03-4238-8eed-12073a42b874",
   "metadata": {},
   "source": [
    "### 2. Create classification predictions and compute OOD scores"
   ]
  },
  {
   "cell_type": "raw",
   "id": "fce3367c-32fb-4fdb-ace0-addb17a8b110",
   "metadata": {},
   "source": [
    "i = 0\n",
    "compound_list = []\n",
    "for i in range(70):\n",
    "    idx = np.where(id_dataset['data_labels'] == i)[0][0]\n",
    "    compound_list.append(id_dataset['metadata'].iloc[idx]['compound'])"
   ]
  },
  {
   "cell_type": "code",
   "execution_count": null,
   "id": "18d2980d-a761-4457-8282-44f8a83594b9",
   "metadata": {},
   "outputs": [],
   "source": [
    "visualize_prediction(classified_gcxgc, ood_detector_name, custom_cmap, colors_lst, predicted_ood_ratio_post, 0.95, '')"
   ]
  },
  {
   "cell_type": "code",
   "execution_count": null,
   "id": "123abb03-5370-437e-9383-eadd5610758c",
   "metadata": {},
   "outputs": [],
   "source": [
    "def detect_ood(scores, threshold):\n",
    "    predictions = (scores >= threshold).astype(int)\n",
    "    return predictions\n",
    "\n",
    "def find_threshold(in_distribution_scores, target_detection_rate=0.95):\n",
    "    # Sort scores in DESCENDING order\n",
    "    sorted_scores = np.sort(in_distribution_scores)[::-1]\n",
    "\n",
    "    # Calculate the index to achieve the target detection rate\n",
    "    index = int(target_detection_rate * len(sorted_scores))\n",
    "\n",
    "    # Choose the threshold based on the index\n",
    "    threshold = sorted_scores[index]\n",
    "\n",
    "    return threshold\n",
    "\n",
    "def normalize_scores(in_distribution_scores, scores):\n",
    "    return (scores - in_distribution_scores.min()) / in_distribution_scores.max()\n",
    "\n",
    "def visualize_prediction(classified, ood_detector_name, custom_cmap, colors_lst, predicted_ood_ratio, fn_detection_rate, save_path):\n",
    "    classified = classified[ood_detector_name]\n",
    "    plt.figure(figsize=(11, 9), dpi=150)\n",
    "    plt.imshow(classified, cmap=custom_cmap)\n",
    "    im_values = np.ravel(np.unique(classified)).astype(int)\n",
    "    patches = [mpatches.Patch(color=colors_lst[val], label=f\"Compound {val}\") for val in im_values if\n",
    "               val not in [70, 71]]\n",
    "    patches.append(mpatches.Patch(color=colors_lst[70], label=f\"OOD\"))\n",
    "    patches.append(mpatches.Patch(color=colors_lst[71], label=f\"Invalid measurement\"))\n",
    "    # plt.legend(handles=patches, bbox_to_anchor=(1.1, 1), loc=2, borderaxespad=0., ncol=2)\n",
    "    plt.title \\\n",
    "        (f\"{ood_detector_name}: {predicted_ood_ratio[ood_detector_name]:.3f}% \"\n",
    "         f\"samples classified as OOD (total {len(im_values ) -2} ID classes detected)\")\n",
    "    plt.gca().invert_yaxis()\n",
    "    plt.gca().set_aspect(aspect=str(0.2))\n",
    "    plt.axis('off')\n",
    "    plt.savefig(f'{save_path}/GCxGC_{ood_detector_name}_{fn_detection_rate}.png', bbox_inches='tight')\n",
    "    plt.show()\n",
    "\n",
    "import matplotlib.patches as mpatches\n",
    "import matplotlib\n",
    "from matplotlib.colors import LinearSegmentedColormap\n",
    "\n",
    "cmap_name = 'hsv'\n",
    "cmap = matplotlib.colormaps[cmap_name]\n",
    "colors_lst = []\n",
    "for i in range(70):\n",
    "    (r, g, b, _) = cmap(int(i * 3.5))\n",
    "    colors_lst.append((r, g, b))\n",
    "\n",
    "# set OOD as white and invalid measurements as black\n",
    "colors_lst.append((0.99, 0.99, 0.99))\n",
    "colors_lst.append((0., 0., 0.))\n",
    "custom_cmap = LinearSegmentedColormap.from_list('diverge_72', colors_lst, N=72)\n",
    "custom_cmap"
   ]
  },
  {
   "cell_type": "raw",
   "id": "cd0dab63-25a0-4424-84b4-c4c2ddeed0c9",
   "metadata": {},
   "source": [
    "!python3 main.py --model_name \"svm\" --mode \"qualitative\" --ood_dataset_name \"M29_9_system2\" --num_classes 70 --ood_detectors \"msp\""
   ]
  },
  {
   "cell_type": "code",
   "execution_count": null,
   "id": "0775a087-1a98-46aa-831f-0fc3ea752514",
   "metadata": {},
   "outputs": [],
   "source": [
    "seed = 1111\n",
    "root_save_dir_path = \"../saved_model_outputs\"\n",
    "ood_dataset_name = \"M29_9_system2\"\n",
    "class_model_name = \"svm\"\n",
    "use_retention_time = False\n",
    "suffix = \"_w_rt\" if use_retention_time else \"\"\n",
    "ood_save_dir_path = f\"{root_save_dir_path}/seed-{seed}/{class_model_name}{suffix}/{ood_dataset_name}\"\n",
    "\n",
    "# get ID accuracy, precision and recall\n",
    "# id_class_perf = load_object(f\"{ood_save_dir_path}/classification_perf_id.pt\")\n",
    "\n",
    "# # get predicted labels by the model\n",
    "# classification_predictions = load_object(f\"{ood_save_dir_path}/model_predictions_ood.pt\")#.numpy()\n",
    "\n",
    "# get OOD detector scores \n",
    "detector_scores = {}\n",
    "for fold in ['id', 'ood']:\n",
    "    detector_scores[fold] = {}\n",
    "    ood_detectors_files = glob.glob(f'{ood_save_dir_path}/*scores_{fold}.pt')\n",
    "    for ood_detector_fname in ood_detectors_files:\n",
    "        detector_scores[fold][ood_detector_fname.split('_')[-3].split('/')[1]] = load_object(ood_detector_fname)"
   ]
  },
  {
   "cell_type": "code",
   "execution_count": null,
   "id": "fbdb8e6f-283a-4b0a-bf89-5b6e72371adc",
   "metadata": {},
   "outputs": [],
   "source": [
    "detector_scores"
   ]
  },
  {
   "cell_type": "code",
   "execution_count": null,
   "id": "c8b362f1-4e68-42b2-9020-0310b5a58690",
   "metadata": {},
   "outputs": [],
   "source": [
    "plot_prediction_hist(classification_predictions, use_logspace=True, use_percentage=True)"
   ]
  },
  {
   "cell_type": "code",
   "execution_count": null,
   "id": "323e8b15-0465-4a2d-bfa6-97a6f1c75c4a",
   "metadata": {},
   "outputs": [],
   "source": [
    "from scipy.stats import gaussian_kde\n",
    "\n",
    "def plot_distributions(scores, detector_name, id_thresh=None, fn_detection_rate=None, save_plot_dir=None, bw=0.1, nbins=200, use_logspace=False,\n",
    "                       normalize_density=False, save_plot=False):\n",
    "    id_scores = scores['id'][detector_name]\n",
    "    test_scores = scores['ood'][detector_name]\n",
    "\n",
    "    min_val = min(min(id_scores), min(test_scores))\n",
    "    max_val = max(max(id_scores), max(test_scores))\n",
    "    xs = np.linspace(min_val, max_val, nbins)\n",
    "    density_id = gaussian_kde(id_scores, bw)\n",
    "    density_test = gaussian_kde(test_scores, bw)\n",
    "    density_id_estimate = density_id(xs)\n",
    "    density_test_estimate = density_test(xs)\n",
    "\n",
    "    plt.figure(figsize=(6, 4), dpi=300)\n",
    "    if normalize_density:\n",
    "        # Make it a pdf so it integrates to 1\n",
    "        bin_width = np.diff(xs)[0]\n",
    "        num_observations_id = density_id_estimate.sum()\n",
    "        num_observations_test = density_test_estimate.sum()\n",
    "        density_id_estimate = density_id_estimate / (num_observations_id * bin_width)\n",
    "        density_test_estimate = density_test_estimate / (num_observations_test * bin_width)\n",
    "        assert (density_id_estimate * bin_width).sum().round() == 1, \"PDF does not integrate to 1!\"\n",
    "        assert (density_test_estimate * bin_width).sum().round() == 1, \"PDF does not integrate to 1!\"\n",
    "\n",
    "    # Quantitative experiments\n",
    "    if id_thresh is None:\n",
    "        plt.plot(xs, density_id_estimate, \"--\", color='blue', label='ID set')\n",
    "        plt.plot(xs, density_test_estimate, \"--\", color='orange', label='OOD set')\n",
    "        idx = np.argwhere(np.diff(np.signbit(density_test_estimate - density_id_estimate))).flatten()\n",
    "        plt.plot(xs[idx], density_id_estimate[idx], 'rx')\n",
    "        for intr in idx:\n",
    "            plt.annotate(f'{xs[intr]:.3f}', (xs[intr] + 2 * (xs[1] - xs[0]), density_id_estimate[intr]))\n",
    "    else:   # Qualitative experiments\n",
    "        plt.plot(xs, density_id_estimate, \"--\", color='blue', label='Compounds dataset')\n",
    "        plt.plot(xs, density_test_estimate, \"--\", color='orange', label='Test dataset')\n",
    "        colors = ['green', 'red', 'purple']\n",
    "        for i, th in enumerate(id_thresh):\n",
    "            plt.axvline(th, color=colors[i], linestyle =\"-\", linewidth=1, label=f'{fn_detection_rate[i]} OOD training samples')\n",
    "\n",
    "    plt.legend(loc='upper right')\n",
    "    plt.xlabel(f'{detector_name} scores')\n",
    "    plt.grid()\n",
    "    if use_logspace:\n",
    "        plt.gca().set_yscale(\"log\")\n",
    "    if save_plot:\n",
    "        suffix = f\"0.9589\"\n",
    "        plt.savefig(f\"{save_plot_dir}/distribution_plot_{detector_name}_{suffix}.pdf\", format=\"pdf\", bbox_inches='tight')\n",
    "    plt.show()"
   ]
  },
  {
   "cell_type": "code",
   "execution_count": null,
   "id": "268208ec-f535-40d0-aab7-30e4467b2aea",
   "metadata": {},
   "outputs": [],
   "source": [
    "save_plot_dir = '../figures/'\n",
    "msp_thresh = [0.1927411535762995, 0.09413525961366254, 0.07741693337568636]\n",
    "plot_distributions(detector_scores, 'msp', id_thresh=msp_thresh, fn_detection_rate=[1200, 480, 240], save_plot_dir=save_plot_dir, nbins=200, use_logspace=False, normalize_density=True, save_plot=True)\n"
   ]
  },
  {
   "cell_type": "code",
   "execution_count": null,
   "id": "f1de60b6-cc8c-4782-ac3c-a709f7b08b38",
   "metadata": {},
   "outputs": [],
   "source": [
    "save_plot_dir = '../figures/'\n",
    "mahalanobis = [0.18167925245956645, 0.09413525961366254, 0.07741693337568636]\n",
    "plot_distributions(detector_scores, 'mahalanobis', id_thresh=msp_thresh, fn_detection_rate=[1200, 480, 240], save_plot_dir=save_plot_dir, nbins=200, use_logspace=False, normalize_density=True, save_plot=True)\n"
   ]
  },
  {
   "cell_type": "code",
   "execution_count": null,
   "id": "d98b661d-af3d-44ce-b6e6-b84750b65d26",
   "metadata": {},
   "outputs": [],
   "source": [
    "save_plot_dir = '../figures/'\n",
    "plot_distributions(detector_scores, 'msp', save_plot_dir, nbins=200, use_logspace=False, normalize_density=True, save_plot=True)\n",
    "plot_distributions(detector_scores, 'maxlogit', save_plot_dir, nbins=200, use_logspace=False, normalize_density=True, save_plot=True)\n",
    "plot_distributions(detector_scores, 'kl', save_plot_dir, nbins=200, use_logspace=False, normalize_density=True, save_plot=True)\n",
    "plot_distributions(detector_scores, 'energy', save_plot_dir, nbins=200, use_logspace=False, normalize_density=True, save_plot=True)"
   ]
  },
  {
   "cell_type": "code",
   "execution_count": null,
   "id": "f3ef14ac-4a89-4fbd-805c-3651b40aa8d3",
   "metadata": {},
   "outputs": [],
   "source": [
    "save_plot_dir = '../figures/'\n",
    "plot_distributions(detector_scores, 'mahalanobis', save_plot_dir, nbins=50, use_logspace=False, normalize_density=False, save_plot=True)\n",
    "plot_distributions(detector_scores, 'knn', save_plot_dir, nbins=50, use_logspace=False, normalize_density=False, save_plot=True)\n",
    "plot_distributions(detector_scores, 'ssd', save_plot_dir, nbins=50, use_logspace=False, normalize_density=False, save_plot=True)\n",
    "plot_distributions(detector_scores, 'nnguide', save_plot_dir, nbins=50, use_logspace=False, normalize_density=False, save_plot=True)"
   ]
  },
  {
   "cell_type": "markdown",
   "id": "ad0beca9-3306-4540-b877-523f3198dfdf",
   "metadata": {},
   "source": [
    "### 3. Select threshold for OOD detection so that we have 95% TPR on ID dataset\n",
    "* We choose the threshold $\\tau$ using ID data so that a high fraction of inputs are correctly classified by the OOD detector g(x).\n",
    "\n",
    "*  ID samples are considered positive (and have higher scores) so we get the prediction from the detector $g$ as:\n",
    "\n",
    "$g(\\bf{x}, \\tau, f) = 0$  if $score(\\bf{x},f) <= \\tau$\n",
    "\n",
    "$g(\\bf{x}, \\tau, f) = 1$  if $score(\\bf{x},f) > \\tau$"
   ]
  },
  {
   "cell_type": "markdown",
   "id": "73d079e2-9e0c-4b63-bdbd-f241bdacee5f",
   "metadata": {},
   "source": [
    "### 4. Produce final predictions by running OOD detector with found threshold, reject classifier's predictions for those that marked as OOD samples"
   ]
  },
  {
   "cell_type": "code",
   "execution_count": null,
   "id": "42848515-904c-454b-a25e-d7b06035e211",
   "metadata": {},
   "outputs": [],
   "source": [
    "from copy import deepcopy\n",
    "# post_hoc_methods = ['msp', 'kl', 'maxlogit', 'energy']\n",
    "post_hoc_methods = ['msp']\n",
    "post_hoc_dr = 0.99\n",
    "\n",
    "thresholds = {}\n",
    "for ood_detector_name in post_hoc_methods:\n",
    "    id_scores = detector_scores['id'][ood_detector_name]\n",
    "    thresholds[ood_detector_name] = find_threshold(id_scores, target_detection_rate=post_hoc_dr)\n",
    "    print(f\"[INFO] {ood_detector_name} threshold: {thresholds[ood_detector_name]}\")\n",
    "\n",
    "print(\"===================\")\n",
    "predictions_dist = {}\n",
    "predicted_ood_ratio_dist = {}\n",
    "ood_label = 70\n",
    "for ood_detector_name in post_hoc_methods:\n",
    "    ood_scores = detector_scores['ood'][ood_detector_name]\n",
    "    current_predictions = detect_ood(ood_scores, thresholds[ood_detector_name])\n",
    "    ood_mask = (current_predictions == 0)\n",
    "    corrected_predictions = deepcopy(classification_predictions)\n",
    "    corrected_predictions[ood_mask] = ood_label  # we have labels from 0 to 69, 70 is ood\n",
    "    predictions_dist[ood_detector_name] = corrected_predictions\n",
    "    predicted_ood_ratio_dist[ood_detector_name] = 100*(len(current_predictions[current_predictions == 0]) / len(current_predictions))\n",
    "    print(f\"[INFO] {ood_detector_name} predicts {predicted_ood_ratio_dist[ood_detector_name]:.3f}% samples as OOD\")"
   ]
  },
  {
   "cell_type": "code",
   "execution_count": null,
   "id": "4928c89b-02c2-4fd1-a053-33868f4e0bf3",
   "metadata": {},
   "outputs": [],
   "source": [
    "from copy import deepcopy\n",
    "# distance_methods = ['mahalanobis', 'knn', 'ssd', 'nnguide']\n",
    "distance_methods = ['mahalanobis']\n",
    "\n",
    "distance_dr = 0.98\n",
    "thresholds = {}\n",
    "for ood_detector_name in distance_methods:\n",
    "    id_scores = detector_scores['id'][ood_detector_name]\n",
    "    thresholds[ood_detector_name] = find_threshold(id_scores, target_detection_rate=distance_dr)\n",
    "    print(f\"[INFO] {ood_detector_name} threshold: {thresholds[ood_detector_name]}\")\n",
    "\n",
    "print(\"===================\")\n",
    "predictions_post = {}\n",
    "predicted_ood_ratio_post = {}\n",
    "ood_label = 70\n",
    "for ood_detector_name in distance_methods:\n",
    "    ood_scores = detector_scores['ood'][ood_detector_name]\n",
    "    current_predictions = detect_ood(ood_scores, thresholds[ood_detector_name])\n",
    "    ood_mask = (current_predictions == 0)\n",
    "    corrected_predictions = deepcopy(classification_predictions)\n",
    "    corrected_predictions[ood_mask] = ood_label  # we have labels from 0 to 69, 70 is ood\n",
    "    predictions_post[ood_detector_name] = corrected_predictions\n",
    "    predicted_ood_ratio_post[ood_detector_name] = 100*(len(current_predictions[current_predictions == 0]) / len(current_predictions))\n",
    "    print(f\"[INFO] {ood_detector_name} predicts {predicted_ood_ratio_post[ood_detector_name]:.3f}% samples as OOD\")"
   ]
  },
  {
   "cell_type": "markdown",
   "id": "90a4516b-58f1-43ac-b69a-a45603bc6628",
   "metadata": {},
   "source": [
    "### 5. vizualize the prediction on GCxGC by coloring spectrum according to the final predictions"
   ]
  },
  {
   "cell_type": "code",
   "execution_count": null,
   "id": "5b81f238-4791-488f-91ff-04fe574e18f4",
   "metadata": {},
   "outputs": [],
   "source": [
    "d, h, w = gcxgc.shape\n",
    "classified_gcxgc = {}\n",
    "predictions = {**predictions_post, **predictions_dist}\n",
    "predicted_ood_ratio = {**predicted_ood_ratio_post, **predicted_ood_ratio_dist}\n",
    "for ood_detector_name in post_hoc_methods + distance_methods:\n",
    "    gcxgc_classified = -1 * np.ones((h, w)) \n",
    "    gcxgc_classified[mask_valid_measurements] = predictions[ood_detector_name]\n",
    "    classified_gcxgc[ood_detector_name] = gcxgc_classified"
   ]
  },
  {
   "cell_type": "code",
   "execution_count": null,
   "id": "8b63e641-0f24-4eaf-8613-a6c8b8e0a44a",
   "metadata": {},
   "outputs": [],
   "source": [
    "for ood_detector_name in post_hoc_methods:\n",
    "    visualize_prediction(classified_gcxgc, ood_detector_name)"
   ]
  },
  {
   "cell_type": "code",
   "execution_count": null,
   "id": "56a44c11-3a83-46f6-aa3e-0592b5b5ba41",
   "metadata": {},
   "outputs": [],
   "source": [
    "for ood_detector_name in distance_methods:\n",
    "    visualize_prediction(classified_gcxgc, ood_detector_name)"
   ]
  }
 ],
 "metadata": {
  "kernelspec": {
   "display_name": "Python 3 (ipykernel)",
   "language": "python",
   "name": "python3"
  },
  "language_info": {
   "codemirror_mode": {
    "name": "ipython",
    "version": 3
   },
   "file_extension": ".py",
   "mimetype": "text/x-python",
   "name": "python",
   "nbconvert_exporter": "python",
   "pygments_lexer": "ipython3",
   "version": "3.10.13"
  }
 },
 "nbformat": 4,
 "nbformat_minor": 5
}
